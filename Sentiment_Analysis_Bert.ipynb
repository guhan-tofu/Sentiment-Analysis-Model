{
  "nbformat": 4,
  "nbformat_minor": 0,
  "metadata": {
    "colab": {
      "provenance": [],
      "gpuType": "T4"
    },
    "kernelspec": {
      "name": "python3",
      "display_name": "Python 3"
    },
    "language_info": {
      "name": "python"
    },
    "accelerator": "GPU",
    "widgets": {
      "application/vnd.jupyter.widget-state+json": {
        "0cb8409ef5844b26b5b91784d0d6e75a": {
          "model_module": "@jupyter-widgets/controls",
          "model_name": "HBoxModel",
          "model_module_version": "1.5.0",
          "state": {
            "_dom_classes": [],
            "_model_module": "@jupyter-widgets/controls",
            "_model_module_version": "1.5.0",
            "_model_name": "HBoxModel",
            "_view_count": null,
            "_view_module": "@jupyter-widgets/controls",
            "_view_module_version": "1.5.0",
            "_view_name": "HBoxView",
            "box_style": "",
            "children": [
              "IPY_MODEL_e3224cc646824f25911311945c1bd394",
              "IPY_MODEL_f0abf028fdcb4a7f991543919670395e",
              "IPY_MODEL_30e64355de9f4e08a2cce8b8dca0e09b"
            ],
            "layout": "IPY_MODEL_5aad941ed1d64101afb2663550bb0f46"
          }
        },
        "e3224cc646824f25911311945c1bd394": {
          "model_module": "@jupyter-widgets/controls",
          "model_name": "HTMLModel",
          "model_module_version": "1.5.0",
          "state": {
            "_dom_classes": [],
            "_model_module": "@jupyter-widgets/controls",
            "_model_module_version": "1.5.0",
            "_model_name": "HTMLModel",
            "_view_count": null,
            "_view_module": "@jupyter-widgets/controls",
            "_view_module_version": "1.5.0",
            "_view_name": "HTMLView",
            "description": "",
            "description_tooltip": null,
            "layout": "IPY_MODEL_f38ceac21fcb4f97acccf8b0620c1df7",
            "placeholder": "​",
            "style": "IPY_MODEL_750718727383406383eeec482b628f63",
            "value": "config.json: 100%"
          }
        },
        "f0abf028fdcb4a7f991543919670395e": {
          "model_module": "@jupyter-widgets/controls",
          "model_name": "FloatProgressModel",
          "model_module_version": "1.5.0",
          "state": {
            "_dom_classes": [],
            "_model_module": "@jupyter-widgets/controls",
            "_model_module_version": "1.5.0",
            "_model_name": "FloatProgressModel",
            "_view_count": null,
            "_view_module": "@jupyter-widgets/controls",
            "_view_module_version": "1.5.0",
            "_view_name": "ProgressView",
            "bar_style": "success",
            "description": "",
            "description_tooltip": null,
            "layout": "IPY_MODEL_550772ad46d44b169a4bffaf33fd3010",
            "max": 570,
            "min": 0,
            "orientation": "horizontal",
            "style": "IPY_MODEL_d0a08f25a42a4f55867c8d10414ae22d",
            "value": 570
          }
        },
        "30e64355de9f4e08a2cce8b8dca0e09b": {
          "model_module": "@jupyter-widgets/controls",
          "model_name": "HTMLModel",
          "model_module_version": "1.5.0",
          "state": {
            "_dom_classes": [],
            "_model_module": "@jupyter-widgets/controls",
            "_model_module_version": "1.5.0",
            "_model_name": "HTMLModel",
            "_view_count": null,
            "_view_module": "@jupyter-widgets/controls",
            "_view_module_version": "1.5.0",
            "_view_name": "HTMLView",
            "description": "",
            "description_tooltip": null,
            "layout": "IPY_MODEL_cb0a211ef27e45dca201cd49359ac761",
            "placeholder": "​",
            "style": "IPY_MODEL_842695ec6bcd4a8aabd54f662339f93e",
            "value": " 570/570 [00:00&lt;00:00, 35.3kB/s]"
          }
        },
        "5aad941ed1d64101afb2663550bb0f46": {
          "model_module": "@jupyter-widgets/base",
          "model_name": "LayoutModel",
          "model_module_version": "1.2.0",
          "state": {
            "_model_module": "@jupyter-widgets/base",
            "_model_module_version": "1.2.0",
            "_model_name": "LayoutModel",
            "_view_count": null,
            "_view_module": "@jupyter-widgets/base",
            "_view_module_version": "1.2.0",
            "_view_name": "LayoutView",
            "align_content": null,
            "align_items": null,
            "align_self": null,
            "border": null,
            "bottom": null,
            "display": null,
            "flex": null,
            "flex_flow": null,
            "grid_area": null,
            "grid_auto_columns": null,
            "grid_auto_flow": null,
            "grid_auto_rows": null,
            "grid_column": null,
            "grid_gap": null,
            "grid_row": null,
            "grid_template_areas": null,
            "grid_template_columns": null,
            "grid_template_rows": null,
            "height": null,
            "justify_content": null,
            "justify_items": null,
            "left": null,
            "margin": null,
            "max_height": null,
            "max_width": null,
            "min_height": null,
            "min_width": null,
            "object_fit": null,
            "object_position": null,
            "order": null,
            "overflow": null,
            "overflow_x": null,
            "overflow_y": null,
            "padding": null,
            "right": null,
            "top": null,
            "visibility": null,
            "width": null
          }
        },
        "f38ceac21fcb4f97acccf8b0620c1df7": {
          "model_module": "@jupyter-widgets/base",
          "model_name": "LayoutModel",
          "model_module_version": "1.2.0",
          "state": {
            "_model_module": "@jupyter-widgets/base",
            "_model_module_version": "1.2.0",
            "_model_name": "LayoutModel",
            "_view_count": null,
            "_view_module": "@jupyter-widgets/base",
            "_view_module_version": "1.2.0",
            "_view_name": "LayoutView",
            "align_content": null,
            "align_items": null,
            "align_self": null,
            "border": null,
            "bottom": null,
            "display": null,
            "flex": null,
            "flex_flow": null,
            "grid_area": null,
            "grid_auto_columns": null,
            "grid_auto_flow": null,
            "grid_auto_rows": null,
            "grid_column": null,
            "grid_gap": null,
            "grid_row": null,
            "grid_template_areas": null,
            "grid_template_columns": null,
            "grid_template_rows": null,
            "height": null,
            "justify_content": null,
            "justify_items": null,
            "left": null,
            "margin": null,
            "max_height": null,
            "max_width": null,
            "min_height": null,
            "min_width": null,
            "object_fit": null,
            "object_position": null,
            "order": null,
            "overflow": null,
            "overflow_x": null,
            "overflow_y": null,
            "padding": null,
            "right": null,
            "top": null,
            "visibility": null,
            "width": null
          }
        },
        "750718727383406383eeec482b628f63": {
          "model_module": "@jupyter-widgets/controls",
          "model_name": "DescriptionStyleModel",
          "model_module_version": "1.5.0",
          "state": {
            "_model_module": "@jupyter-widgets/controls",
            "_model_module_version": "1.5.0",
            "_model_name": "DescriptionStyleModel",
            "_view_count": null,
            "_view_module": "@jupyter-widgets/base",
            "_view_module_version": "1.2.0",
            "_view_name": "StyleView",
            "description_width": ""
          }
        },
        "550772ad46d44b169a4bffaf33fd3010": {
          "model_module": "@jupyter-widgets/base",
          "model_name": "LayoutModel",
          "model_module_version": "1.2.0",
          "state": {
            "_model_module": "@jupyter-widgets/base",
            "_model_module_version": "1.2.0",
            "_model_name": "LayoutModel",
            "_view_count": null,
            "_view_module": "@jupyter-widgets/base",
            "_view_module_version": "1.2.0",
            "_view_name": "LayoutView",
            "align_content": null,
            "align_items": null,
            "align_self": null,
            "border": null,
            "bottom": null,
            "display": null,
            "flex": null,
            "flex_flow": null,
            "grid_area": null,
            "grid_auto_columns": null,
            "grid_auto_flow": null,
            "grid_auto_rows": null,
            "grid_column": null,
            "grid_gap": null,
            "grid_row": null,
            "grid_template_areas": null,
            "grid_template_columns": null,
            "grid_template_rows": null,
            "height": null,
            "justify_content": null,
            "justify_items": null,
            "left": null,
            "margin": null,
            "max_height": null,
            "max_width": null,
            "min_height": null,
            "min_width": null,
            "object_fit": null,
            "object_position": null,
            "order": null,
            "overflow": null,
            "overflow_x": null,
            "overflow_y": null,
            "padding": null,
            "right": null,
            "top": null,
            "visibility": null,
            "width": null
          }
        },
        "d0a08f25a42a4f55867c8d10414ae22d": {
          "model_module": "@jupyter-widgets/controls",
          "model_name": "ProgressStyleModel",
          "model_module_version": "1.5.0",
          "state": {
            "_model_module": "@jupyter-widgets/controls",
            "_model_module_version": "1.5.0",
            "_model_name": "ProgressStyleModel",
            "_view_count": null,
            "_view_module": "@jupyter-widgets/base",
            "_view_module_version": "1.2.0",
            "_view_name": "StyleView",
            "bar_color": null,
            "description_width": ""
          }
        },
        "cb0a211ef27e45dca201cd49359ac761": {
          "model_module": "@jupyter-widgets/base",
          "model_name": "LayoutModel",
          "model_module_version": "1.2.0",
          "state": {
            "_model_module": "@jupyter-widgets/base",
            "_model_module_version": "1.2.0",
            "_model_name": "LayoutModel",
            "_view_count": null,
            "_view_module": "@jupyter-widgets/base",
            "_view_module_version": "1.2.0",
            "_view_name": "LayoutView",
            "align_content": null,
            "align_items": null,
            "align_self": null,
            "border": null,
            "bottom": null,
            "display": null,
            "flex": null,
            "flex_flow": null,
            "grid_area": null,
            "grid_auto_columns": null,
            "grid_auto_flow": null,
            "grid_auto_rows": null,
            "grid_column": null,
            "grid_gap": null,
            "grid_row": null,
            "grid_template_areas": null,
            "grid_template_columns": null,
            "grid_template_rows": null,
            "height": null,
            "justify_content": null,
            "justify_items": null,
            "left": null,
            "margin": null,
            "max_height": null,
            "max_width": null,
            "min_height": null,
            "min_width": null,
            "object_fit": null,
            "object_position": null,
            "order": null,
            "overflow": null,
            "overflow_x": null,
            "overflow_y": null,
            "padding": null,
            "right": null,
            "top": null,
            "visibility": null,
            "width": null
          }
        },
        "842695ec6bcd4a8aabd54f662339f93e": {
          "model_module": "@jupyter-widgets/controls",
          "model_name": "DescriptionStyleModel",
          "model_module_version": "1.5.0",
          "state": {
            "_model_module": "@jupyter-widgets/controls",
            "_model_module_version": "1.5.0",
            "_model_name": "DescriptionStyleModel",
            "_view_count": null,
            "_view_module": "@jupyter-widgets/base",
            "_view_module_version": "1.2.0",
            "_view_name": "StyleView",
            "description_width": ""
          }
        },
        "ec79883a57194fe4b8951e967b2f9a2b": {
          "model_module": "@jupyter-widgets/controls",
          "model_name": "HBoxModel",
          "model_module_version": "1.5.0",
          "state": {
            "_dom_classes": [],
            "_model_module": "@jupyter-widgets/controls",
            "_model_module_version": "1.5.0",
            "_model_name": "HBoxModel",
            "_view_count": null,
            "_view_module": "@jupyter-widgets/controls",
            "_view_module_version": "1.5.0",
            "_view_name": "HBoxView",
            "box_style": "",
            "children": [
              "IPY_MODEL_e84ed882baeb40a695a77512951d8981",
              "IPY_MODEL_325dd169effa4ecb89918506217baa28",
              "IPY_MODEL_59c65f33925d48759d67669a81baaef0"
            ],
            "layout": "IPY_MODEL_84ce57cfb845452a81864cc0d82b34e0"
          }
        },
        "e84ed882baeb40a695a77512951d8981": {
          "model_module": "@jupyter-widgets/controls",
          "model_name": "HTMLModel",
          "model_module_version": "1.5.0",
          "state": {
            "_dom_classes": [],
            "_model_module": "@jupyter-widgets/controls",
            "_model_module_version": "1.5.0",
            "_model_name": "HTMLModel",
            "_view_count": null,
            "_view_module": "@jupyter-widgets/controls",
            "_view_module_version": "1.5.0",
            "_view_name": "HTMLView",
            "description": "",
            "description_tooltip": null,
            "layout": "IPY_MODEL_ccd33582d96440419026634186bb20e5",
            "placeholder": "​",
            "style": "IPY_MODEL_e801f0e4af0444cca95d4f6eafe9126b",
            "value": "model.safetensors: 100%"
          }
        },
        "325dd169effa4ecb89918506217baa28": {
          "model_module": "@jupyter-widgets/controls",
          "model_name": "FloatProgressModel",
          "model_module_version": "1.5.0",
          "state": {
            "_dom_classes": [],
            "_model_module": "@jupyter-widgets/controls",
            "_model_module_version": "1.5.0",
            "_model_name": "FloatProgressModel",
            "_view_count": null,
            "_view_module": "@jupyter-widgets/controls",
            "_view_module_version": "1.5.0",
            "_view_name": "ProgressView",
            "bar_style": "success",
            "description": "",
            "description_tooltip": null,
            "layout": "IPY_MODEL_aaaf893859d1461ba4a4953855a478c6",
            "max": 440449768,
            "min": 0,
            "orientation": "horizontal",
            "style": "IPY_MODEL_ce9d2f14da814299ad3fb24563a7f06d",
            "value": 440449768
          }
        },
        "59c65f33925d48759d67669a81baaef0": {
          "model_module": "@jupyter-widgets/controls",
          "model_name": "HTMLModel",
          "model_module_version": "1.5.0",
          "state": {
            "_dom_classes": [],
            "_model_module": "@jupyter-widgets/controls",
            "_model_module_version": "1.5.0",
            "_model_name": "HTMLModel",
            "_view_count": null,
            "_view_module": "@jupyter-widgets/controls",
            "_view_module_version": "1.5.0",
            "_view_name": "HTMLView",
            "description": "",
            "description_tooltip": null,
            "layout": "IPY_MODEL_b278ed7e7dca4fc8909ab400448422a6",
            "placeholder": "​",
            "style": "IPY_MODEL_baa657a37f93455b97e139ccd8e3339f",
            "value": " 440M/440M [00:07&lt;00:00, 71.6MB/s]"
          }
        },
        "84ce57cfb845452a81864cc0d82b34e0": {
          "model_module": "@jupyter-widgets/base",
          "model_name": "LayoutModel",
          "model_module_version": "1.2.0",
          "state": {
            "_model_module": "@jupyter-widgets/base",
            "_model_module_version": "1.2.0",
            "_model_name": "LayoutModel",
            "_view_count": null,
            "_view_module": "@jupyter-widgets/base",
            "_view_module_version": "1.2.0",
            "_view_name": "LayoutView",
            "align_content": null,
            "align_items": null,
            "align_self": null,
            "border": null,
            "bottom": null,
            "display": null,
            "flex": null,
            "flex_flow": null,
            "grid_area": null,
            "grid_auto_columns": null,
            "grid_auto_flow": null,
            "grid_auto_rows": null,
            "grid_column": null,
            "grid_gap": null,
            "grid_row": null,
            "grid_template_areas": null,
            "grid_template_columns": null,
            "grid_template_rows": null,
            "height": null,
            "justify_content": null,
            "justify_items": null,
            "left": null,
            "margin": null,
            "max_height": null,
            "max_width": null,
            "min_height": null,
            "min_width": null,
            "object_fit": null,
            "object_position": null,
            "order": null,
            "overflow": null,
            "overflow_x": null,
            "overflow_y": null,
            "padding": null,
            "right": null,
            "top": null,
            "visibility": null,
            "width": null
          }
        },
        "ccd33582d96440419026634186bb20e5": {
          "model_module": "@jupyter-widgets/base",
          "model_name": "LayoutModel",
          "model_module_version": "1.2.0",
          "state": {
            "_model_module": "@jupyter-widgets/base",
            "_model_module_version": "1.2.0",
            "_model_name": "LayoutModel",
            "_view_count": null,
            "_view_module": "@jupyter-widgets/base",
            "_view_module_version": "1.2.0",
            "_view_name": "LayoutView",
            "align_content": null,
            "align_items": null,
            "align_self": null,
            "border": null,
            "bottom": null,
            "display": null,
            "flex": null,
            "flex_flow": null,
            "grid_area": null,
            "grid_auto_columns": null,
            "grid_auto_flow": null,
            "grid_auto_rows": null,
            "grid_column": null,
            "grid_gap": null,
            "grid_row": null,
            "grid_template_areas": null,
            "grid_template_columns": null,
            "grid_template_rows": null,
            "height": null,
            "justify_content": null,
            "justify_items": null,
            "left": null,
            "margin": null,
            "max_height": null,
            "max_width": null,
            "min_height": null,
            "min_width": null,
            "object_fit": null,
            "object_position": null,
            "order": null,
            "overflow": null,
            "overflow_x": null,
            "overflow_y": null,
            "padding": null,
            "right": null,
            "top": null,
            "visibility": null,
            "width": null
          }
        },
        "e801f0e4af0444cca95d4f6eafe9126b": {
          "model_module": "@jupyter-widgets/controls",
          "model_name": "DescriptionStyleModel",
          "model_module_version": "1.5.0",
          "state": {
            "_model_module": "@jupyter-widgets/controls",
            "_model_module_version": "1.5.0",
            "_model_name": "DescriptionStyleModel",
            "_view_count": null,
            "_view_module": "@jupyter-widgets/base",
            "_view_module_version": "1.2.0",
            "_view_name": "StyleView",
            "description_width": ""
          }
        },
        "aaaf893859d1461ba4a4953855a478c6": {
          "model_module": "@jupyter-widgets/base",
          "model_name": "LayoutModel",
          "model_module_version": "1.2.0",
          "state": {
            "_model_module": "@jupyter-widgets/base",
            "_model_module_version": "1.2.0",
            "_model_name": "LayoutModel",
            "_view_count": null,
            "_view_module": "@jupyter-widgets/base",
            "_view_module_version": "1.2.0",
            "_view_name": "LayoutView",
            "align_content": null,
            "align_items": null,
            "align_self": null,
            "border": null,
            "bottom": null,
            "display": null,
            "flex": null,
            "flex_flow": null,
            "grid_area": null,
            "grid_auto_columns": null,
            "grid_auto_flow": null,
            "grid_auto_rows": null,
            "grid_column": null,
            "grid_gap": null,
            "grid_row": null,
            "grid_template_areas": null,
            "grid_template_columns": null,
            "grid_template_rows": null,
            "height": null,
            "justify_content": null,
            "justify_items": null,
            "left": null,
            "margin": null,
            "max_height": null,
            "max_width": null,
            "min_height": null,
            "min_width": null,
            "object_fit": null,
            "object_position": null,
            "order": null,
            "overflow": null,
            "overflow_x": null,
            "overflow_y": null,
            "padding": null,
            "right": null,
            "top": null,
            "visibility": null,
            "width": null
          }
        },
        "ce9d2f14da814299ad3fb24563a7f06d": {
          "model_module": "@jupyter-widgets/controls",
          "model_name": "ProgressStyleModel",
          "model_module_version": "1.5.0",
          "state": {
            "_model_module": "@jupyter-widgets/controls",
            "_model_module_version": "1.5.0",
            "_model_name": "ProgressStyleModel",
            "_view_count": null,
            "_view_module": "@jupyter-widgets/base",
            "_view_module_version": "1.2.0",
            "_view_name": "StyleView",
            "bar_color": null,
            "description_width": ""
          }
        },
        "b278ed7e7dca4fc8909ab400448422a6": {
          "model_module": "@jupyter-widgets/base",
          "model_name": "LayoutModel",
          "model_module_version": "1.2.0",
          "state": {
            "_model_module": "@jupyter-widgets/base",
            "_model_module_version": "1.2.0",
            "_model_name": "LayoutModel",
            "_view_count": null,
            "_view_module": "@jupyter-widgets/base",
            "_view_module_version": "1.2.0",
            "_view_name": "LayoutView",
            "align_content": null,
            "align_items": null,
            "align_self": null,
            "border": null,
            "bottom": null,
            "display": null,
            "flex": null,
            "flex_flow": null,
            "grid_area": null,
            "grid_auto_columns": null,
            "grid_auto_flow": null,
            "grid_auto_rows": null,
            "grid_column": null,
            "grid_gap": null,
            "grid_row": null,
            "grid_template_areas": null,
            "grid_template_columns": null,
            "grid_template_rows": null,
            "height": null,
            "justify_content": null,
            "justify_items": null,
            "left": null,
            "margin": null,
            "max_height": null,
            "max_width": null,
            "min_height": null,
            "min_width": null,
            "object_fit": null,
            "object_position": null,
            "order": null,
            "overflow": null,
            "overflow_x": null,
            "overflow_y": null,
            "padding": null,
            "right": null,
            "top": null,
            "visibility": null,
            "width": null
          }
        },
        "baa657a37f93455b97e139ccd8e3339f": {
          "model_module": "@jupyter-widgets/controls",
          "model_name": "DescriptionStyleModel",
          "model_module_version": "1.5.0",
          "state": {
            "_model_module": "@jupyter-widgets/controls",
            "_model_module_version": "1.5.0",
            "_model_name": "DescriptionStyleModel",
            "_view_count": null,
            "_view_module": "@jupyter-widgets/base",
            "_view_module_version": "1.2.0",
            "_view_name": "StyleView",
            "description_width": ""
          }
        },
        "f67c285bc0c64a2086384c20a013bda7": {
          "model_module": "@jupyter-widgets/controls",
          "model_name": "HBoxModel",
          "model_module_version": "1.5.0",
          "state": {
            "_dom_classes": [],
            "_model_module": "@jupyter-widgets/controls",
            "_model_module_version": "1.5.0",
            "_model_name": "HBoxModel",
            "_view_count": null,
            "_view_module": "@jupyter-widgets/controls",
            "_view_module_version": "1.5.0",
            "_view_name": "HBoxView",
            "box_style": "",
            "children": [
              "IPY_MODEL_141f0c21022d4630aa3c42cb846a85b3",
              "IPY_MODEL_cd94447f597a4ae69614f72fdac37b73",
              "IPY_MODEL_d80cd6c049e24f0c9177b6e23f74ee09"
            ],
            "layout": "IPY_MODEL_4073eb58045c48e7a44a429fc6d45513"
          }
        },
        "141f0c21022d4630aa3c42cb846a85b3": {
          "model_module": "@jupyter-widgets/controls",
          "model_name": "HTMLModel",
          "model_module_version": "1.5.0",
          "state": {
            "_dom_classes": [],
            "_model_module": "@jupyter-widgets/controls",
            "_model_module_version": "1.5.0",
            "_model_name": "HTMLModel",
            "_view_count": null,
            "_view_module": "@jupyter-widgets/controls",
            "_view_module_version": "1.5.0",
            "_view_name": "HTMLView",
            "description": "",
            "description_tooltip": null,
            "layout": "IPY_MODEL_4d88ba7710f348caa9dedd546519c49f",
            "placeholder": "​",
            "style": "IPY_MODEL_0bd221841ff74640b70b692f56a3e764",
            "value": "tokenizer_config.json: 100%"
          }
        },
        "cd94447f597a4ae69614f72fdac37b73": {
          "model_module": "@jupyter-widgets/controls",
          "model_name": "FloatProgressModel",
          "model_module_version": "1.5.0",
          "state": {
            "_dom_classes": [],
            "_model_module": "@jupyter-widgets/controls",
            "_model_module_version": "1.5.0",
            "_model_name": "FloatProgressModel",
            "_view_count": null,
            "_view_module": "@jupyter-widgets/controls",
            "_view_module_version": "1.5.0",
            "_view_name": "ProgressView",
            "bar_style": "success",
            "description": "",
            "description_tooltip": null,
            "layout": "IPY_MODEL_dc75613adf40465ab33113091608bb7b",
            "max": 48,
            "min": 0,
            "orientation": "horizontal",
            "style": "IPY_MODEL_36cd6e019129461a9bae6e038f9d0406",
            "value": 48
          }
        },
        "d80cd6c049e24f0c9177b6e23f74ee09": {
          "model_module": "@jupyter-widgets/controls",
          "model_name": "HTMLModel",
          "model_module_version": "1.5.0",
          "state": {
            "_dom_classes": [],
            "_model_module": "@jupyter-widgets/controls",
            "_model_module_version": "1.5.0",
            "_model_name": "HTMLModel",
            "_view_count": null,
            "_view_module": "@jupyter-widgets/controls",
            "_view_module_version": "1.5.0",
            "_view_name": "HTMLView",
            "description": "",
            "description_tooltip": null,
            "layout": "IPY_MODEL_4d63be7ef1cb4211a342872a31ba4baa",
            "placeholder": "​",
            "style": "IPY_MODEL_0bcf5cb9755748f3a5aac72eed592eef",
            "value": " 48.0/48.0 [00:00&lt;00:00, 3.51kB/s]"
          }
        },
        "4073eb58045c48e7a44a429fc6d45513": {
          "model_module": "@jupyter-widgets/base",
          "model_name": "LayoutModel",
          "model_module_version": "1.2.0",
          "state": {
            "_model_module": "@jupyter-widgets/base",
            "_model_module_version": "1.2.0",
            "_model_name": "LayoutModel",
            "_view_count": null,
            "_view_module": "@jupyter-widgets/base",
            "_view_module_version": "1.2.0",
            "_view_name": "LayoutView",
            "align_content": null,
            "align_items": null,
            "align_self": null,
            "border": null,
            "bottom": null,
            "display": null,
            "flex": null,
            "flex_flow": null,
            "grid_area": null,
            "grid_auto_columns": null,
            "grid_auto_flow": null,
            "grid_auto_rows": null,
            "grid_column": null,
            "grid_gap": null,
            "grid_row": null,
            "grid_template_areas": null,
            "grid_template_columns": null,
            "grid_template_rows": null,
            "height": null,
            "justify_content": null,
            "justify_items": null,
            "left": null,
            "margin": null,
            "max_height": null,
            "max_width": null,
            "min_height": null,
            "min_width": null,
            "object_fit": null,
            "object_position": null,
            "order": null,
            "overflow": null,
            "overflow_x": null,
            "overflow_y": null,
            "padding": null,
            "right": null,
            "top": null,
            "visibility": null,
            "width": null
          }
        },
        "4d88ba7710f348caa9dedd546519c49f": {
          "model_module": "@jupyter-widgets/base",
          "model_name": "LayoutModel",
          "model_module_version": "1.2.0",
          "state": {
            "_model_module": "@jupyter-widgets/base",
            "_model_module_version": "1.2.0",
            "_model_name": "LayoutModel",
            "_view_count": null,
            "_view_module": "@jupyter-widgets/base",
            "_view_module_version": "1.2.0",
            "_view_name": "LayoutView",
            "align_content": null,
            "align_items": null,
            "align_self": null,
            "border": null,
            "bottom": null,
            "display": null,
            "flex": null,
            "flex_flow": null,
            "grid_area": null,
            "grid_auto_columns": null,
            "grid_auto_flow": null,
            "grid_auto_rows": null,
            "grid_column": null,
            "grid_gap": null,
            "grid_row": null,
            "grid_template_areas": null,
            "grid_template_columns": null,
            "grid_template_rows": null,
            "height": null,
            "justify_content": null,
            "justify_items": null,
            "left": null,
            "margin": null,
            "max_height": null,
            "max_width": null,
            "min_height": null,
            "min_width": null,
            "object_fit": null,
            "object_position": null,
            "order": null,
            "overflow": null,
            "overflow_x": null,
            "overflow_y": null,
            "padding": null,
            "right": null,
            "top": null,
            "visibility": null,
            "width": null
          }
        },
        "0bd221841ff74640b70b692f56a3e764": {
          "model_module": "@jupyter-widgets/controls",
          "model_name": "DescriptionStyleModel",
          "model_module_version": "1.5.0",
          "state": {
            "_model_module": "@jupyter-widgets/controls",
            "_model_module_version": "1.5.0",
            "_model_name": "DescriptionStyleModel",
            "_view_count": null,
            "_view_module": "@jupyter-widgets/base",
            "_view_module_version": "1.2.0",
            "_view_name": "StyleView",
            "description_width": ""
          }
        },
        "dc75613adf40465ab33113091608bb7b": {
          "model_module": "@jupyter-widgets/base",
          "model_name": "LayoutModel",
          "model_module_version": "1.2.0",
          "state": {
            "_model_module": "@jupyter-widgets/base",
            "_model_module_version": "1.2.0",
            "_model_name": "LayoutModel",
            "_view_count": null,
            "_view_module": "@jupyter-widgets/base",
            "_view_module_version": "1.2.0",
            "_view_name": "LayoutView",
            "align_content": null,
            "align_items": null,
            "align_self": null,
            "border": null,
            "bottom": null,
            "display": null,
            "flex": null,
            "flex_flow": null,
            "grid_area": null,
            "grid_auto_columns": null,
            "grid_auto_flow": null,
            "grid_auto_rows": null,
            "grid_column": null,
            "grid_gap": null,
            "grid_row": null,
            "grid_template_areas": null,
            "grid_template_columns": null,
            "grid_template_rows": null,
            "height": null,
            "justify_content": null,
            "justify_items": null,
            "left": null,
            "margin": null,
            "max_height": null,
            "max_width": null,
            "min_height": null,
            "min_width": null,
            "object_fit": null,
            "object_position": null,
            "order": null,
            "overflow": null,
            "overflow_x": null,
            "overflow_y": null,
            "padding": null,
            "right": null,
            "top": null,
            "visibility": null,
            "width": null
          }
        },
        "36cd6e019129461a9bae6e038f9d0406": {
          "model_module": "@jupyter-widgets/controls",
          "model_name": "ProgressStyleModel",
          "model_module_version": "1.5.0",
          "state": {
            "_model_module": "@jupyter-widgets/controls",
            "_model_module_version": "1.5.0",
            "_model_name": "ProgressStyleModel",
            "_view_count": null,
            "_view_module": "@jupyter-widgets/base",
            "_view_module_version": "1.2.0",
            "_view_name": "StyleView",
            "bar_color": null,
            "description_width": ""
          }
        },
        "4d63be7ef1cb4211a342872a31ba4baa": {
          "model_module": "@jupyter-widgets/base",
          "model_name": "LayoutModel",
          "model_module_version": "1.2.0",
          "state": {
            "_model_module": "@jupyter-widgets/base",
            "_model_module_version": "1.2.0",
            "_model_name": "LayoutModel",
            "_view_count": null,
            "_view_module": "@jupyter-widgets/base",
            "_view_module_version": "1.2.0",
            "_view_name": "LayoutView",
            "align_content": null,
            "align_items": null,
            "align_self": null,
            "border": null,
            "bottom": null,
            "display": null,
            "flex": null,
            "flex_flow": null,
            "grid_area": null,
            "grid_auto_columns": null,
            "grid_auto_flow": null,
            "grid_auto_rows": null,
            "grid_column": null,
            "grid_gap": null,
            "grid_row": null,
            "grid_template_areas": null,
            "grid_template_columns": null,
            "grid_template_rows": null,
            "height": null,
            "justify_content": null,
            "justify_items": null,
            "left": null,
            "margin": null,
            "max_height": null,
            "max_width": null,
            "min_height": null,
            "min_width": null,
            "object_fit": null,
            "object_position": null,
            "order": null,
            "overflow": null,
            "overflow_x": null,
            "overflow_y": null,
            "padding": null,
            "right": null,
            "top": null,
            "visibility": null,
            "width": null
          }
        },
        "0bcf5cb9755748f3a5aac72eed592eef": {
          "model_module": "@jupyter-widgets/controls",
          "model_name": "DescriptionStyleModel",
          "model_module_version": "1.5.0",
          "state": {
            "_model_module": "@jupyter-widgets/controls",
            "_model_module_version": "1.5.0",
            "_model_name": "DescriptionStyleModel",
            "_view_count": null,
            "_view_module": "@jupyter-widgets/base",
            "_view_module_version": "1.2.0",
            "_view_name": "StyleView",
            "description_width": ""
          }
        },
        "3f12eef7d3b148198a9ea5221c3efd80": {
          "model_module": "@jupyter-widgets/controls",
          "model_name": "HBoxModel",
          "model_module_version": "1.5.0",
          "state": {
            "_dom_classes": [],
            "_model_module": "@jupyter-widgets/controls",
            "_model_module_version": "1.5.0",
            "_model_name": "HBoxModel",
            "_view_count": null,
            "_view_module": "@jupyter-widgets/controls",
            "_view_module_version": "1.5.0",
            "_view_name": "HBoxView",
            "box_style": "",
            "children": [
              "IPY_MODEL_f9a9bf70192748e9b3a689543c9649ab",
              "IPY_MODEL_08c04f9591fb4e858ed099b78299d734",
              "IPY_MODEL_8c79ab2f1dfa409ea423ca7f35d1c151"
            ],
            "layout": "IPY_MODEL_e2102d6a92604cf0932fc94fc86f7a8b"
          }
        },
        "f9a9bf70192748e9b3a689543c9649ab": {
          "model_module": "@jupyter-widgets/controls",
          "model_name": "HTMLModel",
          "model_module_version": "1.5.0",
          "state": {
            "_dom_classes": [],
            "_model_module": "@jupyter-widgets/controls",
            "_model_module_version": "1.5.0",
            "_model_name": "HTMLModel",
            "_view_count": null,
            "_view_module": "@jupyter-widgets/controls",
            "_view_module_version": "1.5.0",
            "_view_name": "HTMLView",
            "description": "",
            "description_tooltip": null,
            "layout": "IPY_MODEL_3fa5b6407ce84f4688ce94e274860f77",
            "placeholder": "​",
            "style": "IPY_MODEL_4246b8423b83474ab7d41167bbb3104f",
            "value": "vocab.txt: 100%"
          }
        },
        "08c04f9591fb4e858ed099b78299d734": {
          "model_module": "@jupyter-widgets/controls",
          "model_name": "FloatProgressModel",
          "model_module_version": "1.5.0",
          "state": {
            "_dom_classes": [],
            "_model_module": "@jupyter-widgets/controls",
            "_model_module_version": "1.5.0",
            "_model_name": "FloatProgressModel",
            "_view_count": null,
            "_view_module": "@jupyter-widgets/controls",
            "_view_module_version": "1.5.0",
            "_view_name": "ProgressView",
            "bar_style": "success",
            "description": "",
            "description_tooltip": null,
            "layout": "IPY_MODEL_2c99129c0b0b4b5e95c6dab387d31fc3",
            "max": 231508,
            "min": 0,
            "orientation": "horizontal",
            "style": "IPY_MODEL_7fb1ad2d7a904661858d821a866e20f0",
            "value": 231508
          }
        },
        "8c79ab2f1dfa409ea423ca7f35d1c151": {
          "model_module": "@jupyter-widgets/controls",
          "model_name": "HTMLModel",
          "model_module_version": "1.5.0",
          "state": {
            "_dom_classes": [],
            "_model_module": "@jupyter-widgets/controls",
            "_model_module_version": "1.5.0",
            "_model_name": "HTMLModel",
            "_view_count": null,
            "_view_module": "@jupyter-widgets/controls",
            "_view_module_version": "1.5.0",
            "_view_name": "HTMLView",
            "description": "",
            "description_tooltip": null,
            "layout": "IPY_MODEL_38b0d06012794fb592af5fbb95eb8d7f",
            "placeholder": "​",
            "style": "IPY_MODEL_ec8792d21db2415eb30e88f3611a32de",
            "value": " 232k/232k [00:00&lt;00:00, 3.95MB/s]"
          }
        },
        "e2102d6a92604cf0932fc94fc86f7a8b": {
          "model_module": "@jupyter-widgets/base",
          "model_name": "LayoutModel",
          "model_module_version": "1.2.0",
          "state": {
            "_model_module": "@jupyter-widgets/base",
            "_model_module_version": "1.2.0",
            "_model_name": "LayoutModel",
            "_view_count": null,
            "_view_module": "@jupyter-widgets/base",
            "_view_module_version": "1.2.0",
            "_view_name": "LayoutView",
            "align_content": null,
            "align_items": null,
            "align_self": null,
            "border": null,
            "bottom": null,
            "display": null,
            "flex": null,
            "flex_flow": null,
            "grid_area": null,
            "grid_auto_columns": null,
            "grid_auto_flow": null,
            "grid_auto_rows": null,
            "grid_column": null,
            "grid_gap": null,
            "grid_row": null,
            "grid_template_areas": null,
            "grid_template_columns": null,
            "grid_template_rows": null,
            "height": null,
            "justify_content": null,
            "justify_items": null,
            "left": null,
            "margin": null,
            "max_height": null,
            "max_width": null,
            "min_height": null,
            "min_width": null,
            "object_fit": null,
            "object_position": null,
            "order": null,
            "overflow": null,
            "overflow_x": null,
            "overflow_y": null,
            "padding": null,
            "right": null,
            "top": null,
            "visibility": null,
            "width": null
          }
        },
        "3fa5b6407ce84f4688ce94e274860f77": {
          "model_module": "@jupyter-widgets/base",
          "model_name": "LayoutModel",
          "model_module_version": "1.2.0",
          "state": {
            "_model_module": "@jupyter-widgets/base",
            "_model_module_version": "1.2.0",
            "_model_name": "LayoutModel",
            "_view_count": null,
            "_view_module": "@jupyter-widgets/base",
            "_view_module_version": "1.2.0",
            "_view_name": "LayoutView",
            "align_content": null,
            "align_items": null,
            "align_self": null,
            "border": null,
            "bottom": null,
            "display": null,
            "flex": null,
            "flex_flow": null,
            "grid_area": null,
            "grid_auto_columns": null,
            "grid_auto_flow": null,
            "grid_auto_rows": null,
            "grid_column": null,
            "grid_gap": null,
            "grid_row": null,
            "grid_template_areas": null,
            "grid_template_columns": null,
            "grid_template_rows": null,
            "height": null,
            "justify_content": null,
            "justify_items": null,
            "left": null,
            "margin": null,
            "max_height": null,
            "max_width": null,
            "min_height": null,
            "min_width": null,
            "object_fit": null,
            "object_position": null,
            "order": null,
            "overflow": null,
            "overflow_x": null,
            "overflow_y": null,
            "padding": null,
            "right": null,
            "top": null,
            "visibility": null,
            "width": null
          }
        },
        "4246b8423b83474ab7d41167bbb3104f": {
          "model_module": "@jupyter-widgets/controls",
          "model_name": "DescriptionStyleModel",
          "model_module_version": "1.5.0",
          "state": {
            "_model_module": "@jupyter-widgets/controls",
            "_model_module_version": "1.5.0",
            "_model_name": "DescriptionStyleModel",
            "_view_count": null,
            "_view_module": "@jupyter-widgets/base",
            "_view_module_version": "1.2.0",
            "_view_name": "StyleView",
            "description_width": ""
          }
        },
        "2c99129c0b0b4b5e95c6dab387d31fc3": {
          "model_module": "@jupyter-widgets/base",
          "model_name": "LayoutModel",
          "model_module_version": "1.2.0",
          "state": {
            "_model_module": "@jupyter-widgets/base",
            "_model_module_version": "1.2.0",
            "_model_name": "LayoutModel",
            "_view_count": null,
            "_view_module": "@jupyter-widgets/base",
            "_view_module_version": "1.2.0",
            "_view_name": "LayoutView",
            "align_content": null,
            "align_items": null,
            "align_self": null,
            "border": null,
            "bottom": null,
            "display": null,
            "flex": null,
            "flex_flow": null,
            "grid_area": null,
            "grid_auto_columns": null,
            "grid_auto_flow": null,
            "grid_auto_rows": null,
            "grid_column": null,
            "grid_gap": null,
            "grid_row": null,
            "grid_template_areas": null,
            "grid_template_columns": null,
            "grid_template_rows": null,
            "height": null,
            "justify_content": null,
            "justify_items": null,
            "left": null,
            "margin": null,
            "max_height": null,
            "max_width": null,
            "min_height": null,
            "min_width": null,
            "object_fit": null,
            "object_position": null,
            "order": null,
            "overflow": null,
            "overflow_x": null,
            "overflow_y": null,
            "padding": null,
            "right": null,
            "top": null,
            "visibility": null,
            "width": null
          }
        },
        "7fb1ad2d7a904661858d821a866e20f0": {
          "model_module": "@jupyter-widgets/controls",
          "model_name": "ProgressStyleModel",
          "model_module_version": "1.5.0",
          "state": {
            "_model_module": "@jupyter-widgets/controls",
            "_model_module_version": "1.5.0",
            "_model_name": "ProgressStyleModel",
            "_view_count": null,
            "_view_module": "@jupyter-widgets/base",
            "_view_module_version": "1.2.0",
            "_view_name": "StyleView",
            "bar_color": null,
            "description_width": ""
          }
        },
        "38b0d06012794fb592af5fbb95eb8d7f": {
          "model_module": "@jupyter-widgets/base",
          "model_name": "LayoutModel",
          "model_module_version": "1.2.0",
          "state": {
            "_model_module": "@jupyter-widgets/base",
            "_model_module_version": "1.2.0",
            "_model_name": "LayoutModel",
            "_view_count": null,
            "_view_module": "@jupyter-widgets/base",
            "_view_module_version": "1.2.0",
            "_view_name": "LayoutView",
            "align_content": null,
            "align_items": null,
            "align_self": null,
            "border": null,
            "bottom": null,
            "display": null,
            "flex": null,
            "flex_flow": null,
            "grid_area": null,
            "grid_auto_columns": null,
            "grid_auto_flow": null,
            "grid_auto_rows": null,
            "grid_column": null,
            "grid_gap": null,
            "grid_row": null,
            "grid_template_areas": null,
            "grid_template_columns": null,
            "grid_template_rows": null,
            "height": null,
            "justify_content": null,
            "justify_items": null,
            "left": null,
            "margin": null,
            "max_height": null,
            "max_width": null,
            "min_height": null,
            "min_width": null,
            "object_fit": null,
            "object_position": null,
            "order": null,
            "overflow": null,
            "overflow_x": null,
            "overflow_y": null,
            "padding": null,
            "right": null,
            "top": null,
            "visibility": null,
            "width": null
          }
        },
        "ec8792d21db2415eb30e88f3611a32de": {
          "model_module": "@jupyter-widgets/controls",
          "model_name": "DescriptionStyleModel",
          "model_module_version": "1.5.0",
          "state": {
            "_model_module": "@jupyter-widgets/controls",
            "_model_module_version": "1.5.0",
            "_model_name": "DescriptionStyleModel",
            "_view_count": null,
            "_view_module": "@jupyter-widgets/base",
            "_view_module_version": "1.2.0",
            "_view_name": "StyleView",
            "description_width": ""
          }
        },
        "af4cc4bf21874a90b793c59890f74c1e": {
          "model_module": "@jupyter-widgets/controls",
          "model_name": "HBoxModel",
          "model_module_version": "1.5.0",
          "state": {
            "_dom_classes": [],
            "_model_module": "@jupyter-widgets/controls",
            "_model_module_version": "1.5.0",
            "_model_name": "HBoxModel",
            "_view_count": null,
            "_view_module": "@jupyter-widgets/controls",
            "_view_module_version": "1.5.0",
            "_view_name": "HBoxView",
            "box_style": "",
            "children": [
              "IPY_MODEL_51d6ac43d64e45a880aa3bf940ffa6bf",
              "IPY_MODEL_0f57a6fe606747a3b3a0f1e454a64851",
              "IPY_MODEL_cf1f859d04904f3fa001ce628e30bbfd"
            ],
            "layout": "IPY_MODEL_66f4d192145b44c89738561970480855"
          }
        },
        "51d6ac43d64e45a880aa3bf940ffa6bf": {
          "model_module": "@jupyter-widgets/controls",
          "model_name": "HTMLModel",
          "model_module_version": "1.5.0",
          "state": {
            "_dom_classes": [],
            "_model_module": "@jupyter-widgets/controls",
            "_model_module_version": "1.5.0",
            "_model_name": "HTMLModel",
            "_view_count": null,
            "_view_module": "@jupyter-widgets/controls",
            "_view_module_version": "1.5.0",
            "_view_name": "HTMLView",
            "description": "",
            "description_tooltip": null,
            "layout": "IPY_MODEL_d41c7dbaf5d8474ab3a1fe483abfc11f",
            "placeholder": "​",
            "style": "IPY_MODEL_3725599e9f864d67857796eb0f08a0de",
            "value": "tokenizer.json: 100%"
          }
        },
        "0f57a6fe606747a3b3a0f1e454a64851": {
          "model_module": "@jupyter-widgets/controls",
          "model_name": "FloatProgressModel",
          "model_module_version": "1.5.0",
          "state": {
            "_dom_classes": [],
            "_model_module": "@jupyter-widgets/controls",
            "_model_module_version": "1.5.0",
            "_model_name": "FloatProgressModel",
            "_view_count": null,
            "_view_module": "@jupyter-widgets/controls",
            "_view_module_version": "1.5.0",
            "_view_name": "ProgressView",
            "bar_style": "success",
            "description": "",
            "description_tooltip": null,
            "layout": "IPY_MODEL_2b0978a6a69d4189ac9aaf24546cd22f",
            "max": 466062,
            "min": 0,
            "orientation": "horizontal",
            "style": "IPY_MODEL_9ea8782566674b9ba93a3daa0091e6d0",
            "value": 466062
          }
        },
        "cf1f859d04904f3fa001ce628e30bbfd": {
          "model_module": "@jupyter-widgets/controls",
          "model_name": "HTMLModel",
          "model_module_version": "1.5.0",
          "state": {
            "_dom_classes": [],
            "_model_module": "@jupyter-widgets/controls",
            "_model_module_version": "1.5.0",
            "_model_name": "HTMLModel",
            "_view_count": null,
            "_view_module": "@jupyter-widgets/controls",
            "_view_module_version": "1.5.0",
            "_view_name": "HTMLView",
            "description": "",
            "description_tooltip": null,
            "layout": "IPY_MODEL_5bde76fa0a7643b7b9b7028139492602",
            "placeholder": "​",
            "style": "IPY_MODEL_3728824a14be4b8980816a296a188a7f",
            "value": " 466k/466k [00:00&lt;00:00, 2.10MB/s]"
          }
        },
        "66f4d192145b44c89738561970480855": {
          "model_module": "@jupyter-widgets/base",
          "model_name": "LayoutModel",
          "model_module_version": "1.2.0",
          "state": {
            "_model_module": "@jupyter-widgets/base",
            "_model_module_version": "1.2.0",
            "_model_name": "LayoutModel",
            "_view_count": null,
            "_view_module": "@jupyter-widgets/base",
            "_view_module_version": "1.2.0",
            "_view_name": "LayoutView",
            "align_content": null,
            "align_items": null,
            "align_self": null,
            "border": null,
            "bottom": null,
            "display": null,
            "flex": null,
            "flex_flow": null,
            "grid_area": null,
            "grid_auto_columns": null,
            "grid_auto_flow": null,
            "grid_auto_rows": null,
            "grid_column": null,
            "grid_gap": null,
            "grid_row": null,
            "grid_template_areas": null,
            "grid_template_columns": null,
            "grid_template_rows": null,
            "height": null,
            "justify_content": null,
            "justify_items": null,
            "left": null,
            "margin": null,
            "max_height": null,
            "max_width": null,
            "min_height": null,
            "min_width": null,
            "object_fit": null,
            "object_position": null,
            "order": null,
            "overflow": null,
            "overflow_x": null,
            "overflow_y": null,
            "padding": null,
            "right": null,
            "top": null,
            "visibility": null,
            "width": null
          }
        },
        "d41c7dbaf5d8474ab3a1fe483abfc11f": {
          "model_module": "@jupyter-widgets/base",
          "model_name": "LayoutModel",
          "model_module_version": "1.2.0",
          "state": {
            "_model_module": "@jupyter-widgets/base",
            "_model_module_version": "1.2.0",
            "_model_name": "LayoutModel",
            "_view_count": null,
            "_view_module": "@jupyter-widgets/base",
            "_view_module_version": "1.2.0",
            "_view_name": "LayoutView",
            "align_content": null,
            "align_items": null,
            "align_self": null,
            "border": null,
            "bottom": null,
            "display": null,
            "flex": null,
            "flex_flow": null,
            "grid_area": null,
            "grid_auto_columns": null,
            "grid_auto_flow": null,
            "grid_auto_rows": null,
            "grid_column": null,
            "grid_gap": null,
            "grid_row": null,
            "grid_template_areas": null,
            "grid_template_columns": null,
            "grid_template_rows": null,
            "height": null,
            "justify_content": null,
            "justify_items": null,
            "left": null,
            "margin": null,
            "max_height": null,
            "max_width": null,
            "min_height": null,
            "min_width": null,
            "object_fit": null,
            "object_position": null,
            "order": null,
            "overflow": null,
            "overflow_x": null,
            "overflow_y": null,
            "padding": null,
            "right": null,
            "top": null,
            "visibility": null,
            "width": null
          }
        },
        "3725599e9f864d67857796eb0f08a0de": {
          "model_module": "@jupyter-widgets/controls",
          "model_name": "DescriptionStyleModel",
          "model_module_version": "1.5.0",
          "state": {
            "_model_module": "@jupyter-widgets/controls",
            "_model_module_version": "1.5.0",
            "_model_name": "DescriptionStyleModel",
            "_view_count": null,
            "_view_module": "@jupyter-widgets/base",
            "_view_module_version": "1.2.0",
            "_view_name": "StyleView",
            "description_width": ""
          }
        },
        "2b0978a6a69d4189ac9aaf24546cd22f": {
          "model_module": "@jupyter-widgets/base",
          "model_name": "LayoutModel",
          "model_module_version": "1.2.0",
          "state": {
            "_model_module": "@jupyter-widgets/base",
            "_model_module_version": "1.2.0",
            "_model_name": "LayoutModel",
            "_view_count": null,
            "_view_module": "@jupyter-widgets/base",
            "_view_module_version": "1.2.0",
            "_view_name": "LayoutView",
            "align_content": null,
            "align_items": null,
            "align_self": null,
            "border": null,
            "bottom": null,
            "display": null,
            "flex": null,
            "flex_flow": null,
            "grid_area": null,
            "grid_auto_columns": null,
            "grid_auto_flow": null,
            "grid_auto_rows": null,
            "grid_column": null,
            "grid_gap": null,
            "grid_row": null,
            "grid_template_areas": null,
            "grid_template_columns": null,
            "grid_template_rows": null,
            "height": null,
            "justify_content": null,
            "justify_items": null,
            "left": null,
            "margin": null,
            "max_height": null,
            "max_width": null,
            "min_height": null,
            "min_width": null,
            "object_fit": null,
            "object_position": null,
            "order": null,
            "overflow": null,
            "overflow_x": null,
            "overflow_y": null,
            "padding": null,
            "right": null,
            "top": null,
            "visibility": null,
            "width": null
          }
        },
        "9ea8782566674b9ba93a3daa0091e6d0": {
          "model_module": "@jupyter-widgets/controls",
          "model_name": "ProgressStyleModel",
          "model_module_version": "1.5.0",
          "state": {
            "_model_module": "@jupyter-widgets/controls",
            "_model_module_version": "1.5.0",
            "_model_name": "ProgressStyleModel",
            "_view_count": null,
            "_view_module": "@jupyter-widgets/base",
            "_view_module_version": "1.2.0",
            "_view_name": "StyleView",
            "bar_color": null,
            "description_width": ""
          }
        },
        "5bde76fa0a7643b7b9b7028139492602": {
          "model_module": "@jupyter-widgets/base",
          "model_name": "LayoutModel",
          "model_module_version": "1.2.0",
          "state": {
            "_model_module": "@jupyter-widgets/base",
            "_model_module_version": "1.2.0",
            "_model_name": "LayoutModel",
            "_view_count": null,
            "_view_module": "@jupyter-widgets/base",
            "_view_module_version": "1.2.0",
            "_view_name": "LayoutView",
            "align_content": null,
            "align_items": null,
            "align_self": null,
            "border": null,
            "bottom": null,
            "display": null,
            "flex": null,
            "flex_flow": null,
            "grid_area": null,
            "grid_auto_columns": null,
            "grid_auto_flow": null,
            "grid_auto_rows": null,
            "grid_column": null,
            "grid_gap": null,
            "grid_row": null,
            "grid_template_areas": null,
            "grid_template_columns": null,
            "grid_template_rows": null,
            "height": null,
            "justify_content": null,
            "justify_items": null,
            "left": null,
            "margin": null,
            "max_height": null,
            "max_width": null,
            "min_height": null,
            "min_width": null,
            "object_fit": null,
            "object_position": null,
            "order": null,
            "overflow": null,
            "overflow_x": null,
            "overflow_y": null,
            "padding": null,
            "right": null,
            "top": null,
            "visibility": null,
            "width": null
          }
        },
        "3728824a14be4b8980816a296a188a7f": {
          "model_module": "@jupyter-widgets/controls",
          "model_name": "DescriptionStyleModel",
          "model_module_version": "1.5.0",
          "state": {
            "_model_module": "@jupyter-widgets/controls",
            "_model_module_version": "1.5.0",
            "_model_name": "DescriptionStyleModel",
            "_view_count": null,
            "_view_module": "@jupyter-widgets/base",
            "_view_module_version": "1.2.0",
            "_view_name": "StyleView",
            "description_width": ""
          }
        },
        "bc4d6de92e9f4744a55082cbf171dc3a": {
          "model_module": "@jupyter-widgets/controls",
          "model_name": "HBoxModel",
          "model_module_version": "1.5.0",
          "state": {
            "_dom_classes": [],
            "_model_module": "@jupyter-widgets/controls",
            "_model_module_version": "1.5.0",
            "_model_name": "HBoxModel",
            "_view_count": null,
            "_view_module": "@jupyter-widgets/controls",
            "_view_module_version": "1.5.0",
            "_view_name": "HBoxView",
            "box_style": "",
            "children": [
              "IPY_MODEL_7ea994e24cb54fd1ac5ca4b7778dd3db",
              "IPY_MODEL_6cb245415edf469ba4e9fa44c6eac8d3",
              "IPY_MODEL_c34bc6ac18c249b289fe783616ad078d"
            ],
            "layout": "IPY_MODEL_cc4df950e2754b44a8aef1d2b2fa30f4"
          }
        },
        "7ea994e24cb54fd1ac5ca4b7778dd3db": {
          "model_module": "@jupyter-widgets/controls",
          "model_name": "HTMLModel",
          "model_module_version": "1.5.0",
          "state": {
            "_dom_classes": [],
            "_model_module": "@jupyter-widgets/controls",
            "_model_module_version": "1.5.0",
            "_model_name": "HTMLModel",
            "_view_count": null,
            "_view_module": "@jupyter-widgets/controls",
            "_view_module_version": "1.5.0",
            "_view_name": "HTMLView",
            "description": "",
            "description_tooltip": null,
            "layout": "IPY_MODEL_4dad5540830140778bd3fae177ec5116",
            "placeholder": "​",
            "style": "IPY_MODEL_caa70552ef454ced822739ed30dbd9d5",
            "value": "Map: 100%"
          }
        },
        "6cb245415edf469ba4e9fa44c6eac8d3": {
          "model_module": "@jupyter-widgets/controls",
          "model_name": "FloatProgressModel",
          "model_module_version": "1.5.0",
          "state": {
            "_dom_classes": [],
            "_model_module": "@jupyter-widgets/controls",
            "_model_module_version": "1.5.0",
            "_model_name": "FloatProgressModel",
            "_view_count": null,
            "_view_module": "@jupyter-widgets/controls",
            "_view_module_version": "1.5.0",
            "_view_name": "ProgressView",
            "bar_style": "success",
            "description": "",
            "description_tooltip": null,
            "layout": "IPY_MODEL_0f095a8e962a44beb36e934dfe632a85",
            "max": 16000,
            "min": 0,
            "orientation": "horizontal",
            "style": "IPY_MODEL_811af12a1d2d49528204beb85ef6125a",
            "value": 16000
          }
        },
        "c34bc6ac18c249b289fe783616ad078d": {
          "model_module": "@jupyter-widgets/controls",
          "model_name": "HTMLModel",
          "model_module_version": "1.5.0",
          "state": {
            "_dom_classes": [],
            "_model_module": "@jupyter-widgets/controls",
            "_model_module_version": "1.5.0",
            "_model_name": "HTMLModel",
            "_view_count": null,
            "_view_module": "@jupyter-widgets/controls",
            "_view_module_version": "1.5.0",
            "_view_name": "HTMLView",
            "description": "",
            "description_tooltip": null,
            "layout": "IPY_MODEL_97adf84ae7644d8381e4450c7b5f437f",
            "placeholder": "​",
            "style": "IPY_MODEL_6a16b2d8858a4b92a28a4623aea26a28",
            "value": " 16000/16000 [00:02&lt;00:00, 8055.15 examples/s]"
          }
        },
        "cc4df950e2754b44a8aef1d2b2fa30f4": {
          "model_module": "@jupyter-widgets/base",
          "model_name": "LayoutModel",
          "model_module_version": "1.2.0",
          "state": {
            "_model_module": "@jupyter-widgets/base",
            "_model_module_version": "1.2.0",
            "_model_name": "LayoutModel",
            "_view_count": null,
            "_view_module": "@jupyter-widgets/base",
            "_view_module_version": "1.2.0",
            "_view_name": "LayoutView",
            "align_content": null,
            "align_items": null,
            "align_self": null,
            "border": null,
            "bottom": null,
            "display": null,
            "flex": null,
            "flex_flow": null,
            "grid_area": null,
            "grid_auto_columns": null,
            "grid_auto_flow": null,
            "grid_auto_rows": null,
            "grid_column": null,
            "grid_gap": null,
            "grid_row": null,
            "grid_template_areas": null,
            "grid_template_columns": null,
            "grid_template_rows": null,
            "height": null,
            "justify_content": null,
            "justify_items": null,
            "left": null,
            "margin": null,
            "max_height": null,
            "max_width": null,
            "min_height": null,
            "min_width": null,
            "object_fit": null,
            "object_position": null,
            "order": null,
            "overflow": null,
            "overflow_x": null,
            "overflow_y": null,
            "padding": null,
            "right": null,
            "top": null,
            "visibility": null,
            "width": null
          }
        },
        "4dad5540830140778bd3fae177ec5116": {
          "model_module": "@jupyter-widgets/base",
          "model_name": "LayoutModel",
          "model_module_version": "1.2.0",
          "state": {
            "_model_module": "@jupyter-widgets/base",
            "_model_module_version": "1.2.0",
            "_model_name": "LayoutModel",
            "_view_count": null,
            "_view_module": "@jupyter-widgets/base",
            "_view_module_version": "1.2.0",
            "_view_name": "LayoutView",
            "align_content": null,
            "align_items": null,
            "align_self": null,
            "border": null,
            "bottom": null,
            "display": null,
            "flex": null,
            "flex_flow": null,
            "grid_area": null,
            "grid_auto_columns": null,
            "grid_auto_flow": null,
            "grid_auto_rows": null,
            "grid_column": null,
            "grid_gap": null,
            "grid_row": null,
            "grid_template_areas": null,
            "grid_template_columns": null,
            "grid_template_rows": null,
            "height": null,
            "justify_content": null,
            "justify_items": null,
            "left": null,
            "margin": null,
            "max_height": null,
            "max_width": null,
            "min_height": null,
            "min_width": null,
            "object_fit": null,
            "object_position": null,
            "order": null,
            "overflow": null,
            "overflow_x": null,
            "overflow_y": null,
            "padding": null,
            "right": null,
            "top": null,
            "visibility": null,
            "width": null
          }
        },
        "caa70552ef454ced822739ed30dbd9d5": {
          "model_module": "@jupyter-widgets/controls",
          "model_name": "DescriptionStyleModel",
          "model_module_version": "1.5.0",
          "state": {
            "_model_module": "@jupyter-widgets/controls",
            "_model_module_version": "1.5.0",
            "_model_name": "DescriptionStyleModel",
            "_view_count": null,
            "_view_module": "@jupyter-widgets/base",
            "_view_module_version": "1.2.0",
            "_view_name": "StyleView",
            "description_width": ""
          }
        },
        "0f095a8e962a44beb36e934dfe632a85": {
          "model_module": "@jupyter-widgets/base",
          "model_name": "LayoutModel",
          "model_module_version": "1.2.0",
          "state": {
            "_model_module": "@jupyter-widgets/base",
            "_model_module_version": "1.2.0",
            "_model_name": "LayoutModel",
            "_view_count": null,
            "_view_module": "@jupyter-widgets/base",
            "_view_module_version": "1.2.0",
            "_view_name": "LayoutView",
            "align_content": null,
            "align_items": null,
            "align_self": null,
            "border": null,
            "bottom": null,
            "display": null,
            "flex": null,
            "flex_flow": null,
            "grid_area": null,
            "grid_auto_columns": null,
            "grid_auto_flow": null,
            "grid_auto_rows": null,
            "grid_column": null,
            "grid_gap": null,
            "grid_row": null,
            "grid_template_areas": null,
            "grid_template_columns": null,
            "grid_template_rows": null,
            "height": null,
            "justify_content": null,
            "justify_items": null,
            "left": null,
            "margin": null,
            "max_height": null,
            "max_width": null,
            "min_height": null,
            "min_width": null,
            "object_fit": null,
            "object_position": null,
            "order": null,
            "overflow": null,
            "overflow_x": null,
            "overflow_y": null,
            "padding": null,
            "right": null,
            "top": null,
            "visibility": null,
            "width": null
          }
        },
        "811af12a1d2d49528204beb85ef6125a": {
          "model_module": "@jupyter-widgets/controls",
          "model_name": "ProgressStyleModel",
          "model_module_version": "1.5.0",
          "state": {
            "_model_module": "@jupyter-widgets/controls",
            "_model_module_version": "1.5.0",
            "_model_name": "ProgressStyleModel",
            "_view_count": null,
            "_view_module": "@jupyter-widgets/base",
            "_view_module_version": "1.2.0",
            "_view_name": "StyleView",
            "bar_color": null,
            "description_width": ""
          }
        },
        "97adf84ae7644d8381e4450c7b5f437f": {
          "model_module": "@jupyter-widgets/base",
          "model_name": "LayoutModel",
          "model_module_version": "1.2.0",
          "state": {
            "_model_module": "@jupyter-widgets/base",
            "_model_module_version": "1.2.0",
            "_model_name": "LayoutModel",
            "_view_count": null,
            "_view_module": "@jupyter-widgets/base",
            "_view_module_version": "1.2.0",
            "_view_name": "LayoutView",
            "align_content": null,
            "align_items": null,
            "align_self": null,
            "border": null,
            "bottom": null,
            "display": null,
            "flex": null,
            "flex_flow": null,
            "grid_area": null,
            "grid_auto_columns": null,
            "grid_auto_flow": null,
            "grid_auto_rows": null,
            "grid_column": null,
            "grid_gap": null,
            "grid_row": null,
            "grid_template_areas": null,
            "grid_template_columns": null,
            "grid_template_rows": null,
            "height": null,
            "justify_content": null,
            "justify_items": null,
            "left": null,
            "margin": null,
            "max_height": null,
            "max_width": null,
            "min_height": null,
            "min_width": null,
            "object_fit": null,
            "object_position": null,
            "order": null,
            "overflow": null,
            "overflow_x": null,
            "overflow_y": null,
            "padding": null,
            "right": null,
            "top": null,
            "visibility": null,
            "width": null
          }
        },
        "6a16b2d8858a4b92a28a4623aea26a28": {
          "model_module": "@jupyter-widgets/controls",
          "model_name": "DescriptionStyleModel",
          "model_module_version": "1.5.0",
          "state": {
            "_model_module": "@jupyter-widgets/controls",
            "_model_module_version": "1.5.0",
            "_model_name": "DescriptionStyleModel",
            "_view_count": null,
            "_view_module": "@jupyter-widgets/base",
            "_view_module_version": "1.2.0",
            "_view_name": "StyleView",
            "description_width": ""
          }
        },
        "935724f1b74345bfa9bffd15493a7a2a": {
          "model_module": "@jupyter-widgets/controls",
          "model_name": "HBoxModel",
          "model_module_version": "1.5.0",
          "state": {
            "_dom_classes": [],
            "_model_module": "@jupyter-widgets/controls",
            "_model_module_version": "1.5.0",
            "_model_name": "HBoxModel",
            "_view_count": null,
            "_view_module": "@jupyter-widgets/controls",
            "_view_module_version": "1.5.0",
            "_view_name": "HBoxView",
            "box_style": "",
            "children": [
              "IPY_MODEL_d2d8c76dd85d4436997515c503bb2e35",
              "IPY_MODEL_0b91bf29e6924f1ab8cb8b2455cb26a7",
              "IPY_MODEL_a2248e4770f7414cae47a8a5fb67ad9b"
            ],
            "layout": "IPY_MODEL_91792bbaf91b4e6ca722297a6ab3ac11"
          }
        },
        "d2d8c76dd85d4436997515c503bb2e35": {
          "model_module": "@jupyter-widgets/controls",
          "model_name": "HTMLModel",
          "model_module_version": "1.5.0",
          "state": {
            "_dom_classes": [],
            "_model_module": "@jupyter-widgets/controls",
            "_model_module_version": "1.5.0",
            "_model_name": "HTMLModel",
            "_view_count": null,
            "_view_module": "@jupyter-widgets/controls",
            "_view_module_version": "1.5.0",
            "_view_name": "HTMLView",
            "description": "",
            "description_tooltip": null,
            "layout": "IPY_MODEL_1524dc230e224ff5a47a73a3d4eb4a43",
            "placeholder": "​",
            "style": "IPY_MODEL_c0a6a464522343c49a0c8ecb5f86f808",
            "value": "Map: 100%"
          }
        },
        "0b91bf29e6924f1ab8cb8b2455cb26a7": {
          "model_module": "@jupyter-widgets/controls",
          "model_name": "FloatProgressModel",
          "model_module_version": "1.5.0",
          "state": {
            "_dom_classes": [],
            "_model_module": "@jupyter-widgets/controls",
            "_model_module_version": "1.5.0",
            "_model_name": "FloatProgressModel",
            "_view_count": null,
            "_view_module": "@jupyter-widgets/controls",
            "_view_module_version": "1.5.0",
            "_view_name": "ProgressView",
            "bar_style": "success",
            "description": "",
            "description_tooltip": null,
            "layout": "IPY_MODEL_422127daa87e415db22d938ec6e1be7e",
            "max": 2000,
            "min": 0,
            "orientation": "horizontal",
            "style": "IPY_MODEL_e0ef53826ca14fe59d59f1f8ad3efc5f",
            "value": 2000
          }
        },
        "a2248e4770f7414cae47a8a5fb67ad9b": {
          "model_module": "@jupyter-widgets/controls",
          "model_name": "HTMLModel",
          "model_module_version": "1.5.0",
          "state": {
            "_dom_classes": [],
            "_model_module": "@jupyter-widgets/controls",
            "_model_module_version": "1.5.0",
            "_model_name": "HTMLModel",
            "_view_count": null,
            "_view_module": "@jupyter-widgets/controls",
            "_view_module_version": "1.5.0",
            "_view_name": "HTMLView",
            "description": "",
            "description_tooltip": null,
            "layout": "IPY_MODEL_3b0b2da5efb5486eb77794ff8a338111",
            "placeholder": "​",
            "style": "IPY_MODEL_803a56b4c6df41a39e2c677fc4d44d5a",
            "value": " 2000/2000 [00:00&lt;00:00, 7156.57 examples/s]"
          }
        },
        "91792bbaf91b4e6ca722297a6ab3ac11": {
          "model_module": "@jupyter-widgets/base",
          "model_name": "LayoutModel",
          "model_module_version": "1.2.0",
          "state": {
            "_model_module": "@jupyter-widgets/base",
            "_model_module_version": "1.2.0",
            "_model_name": "LayoutModel",
            "_view_count": null,
            "_view_module": "@jupyter-widgets/base",
            "_view_module_version": "1.2.0",
            "_view_name": "LayoutView",
            "align_content": null,
            "align_items": null,
            "align_self": null,
            "border": null,
            "bottom": null,
            "display": null,
            "flex": null,
            "flex_flow": null,
            "grid_area": null,
            "grid_auto_columns": null,
            "grid_auto_flow": null,
            "grid_auto_rows": null,
            "grid_column": null,
            "grid_gap": null,
            "grid_row": null,
            "grid_template_areas": null,
            "grid_template_columns": null,
            "grid_template_rows": null,
            "height": null,
            "justify_content": null,
            "justify_items": null,
            "left": null,
            "margin": null,
            "max_height": null,
            "max_width": null,
            "min_height": null,
            "min_width": null,
            "object_fit": null,
            "object_position": null,
            "order": null,
            "overflow": null,
            "overflow_x": null,
            "overflow_y": null,
            "padding": null,
            "right": null,
            "top": null,
            "visibility": null,
            "width": null
          }
        },
        "1524dc230e224ff5a47a73a3d4eb4a43": {
          "model_module": "@jupyter-widgets/base",
          "model_name": "LayoutModel",
          "model_module_version": "1.2.0",
          "state": {
            "_model_module": "@jupyter-widgets/base",
            "_model_module_version": "1.2.0",
            "_model_name": "LayoutModel",
            "_view_count": null,
            "_view_module": "@jupyter-widgets/base",
            "_view_module_version": "1.2.0",
            "_view_name": "LayoutView",
            "align_content": null,
            "align_items": null,
            "align_self": null,
            "border": null,
            "bottom": null,
            "display": null,
            "flex": null,
            "flex_flow": null,
            "grid_area": null,
            "grid_auto_columns": null,
            "grid_auto_flow": null,
            "grid_auto_rows": null,
            "grid_column": null,
            "grid_gap": null,
            "grid_row": null,
            "grid_template_areas": null,
            "grid_template_columns": null,
            "grid_template_rows": null,
            "height": null,
            "justify_content": null,
            "justify_items": null,
            "left": null,
            "margin": null,
            "max_height": null,
            "max_width": null,
            "min_height": null,
            "min_width": null,
            "object_fit": null,
            "object_position": null,
            "order": null,
            "overflow": null,
            "overflow_x": null,
            "overflow_y": null,
            "padding": null,
            "right": null,
            "top": null,
            "visibility": null,
            "width": null
          }
        },
        "c0a6a464522343c49a0c8ecb5f86f808": {
          "model_module": "@jupyter-widgets/controls",
          "model_name": "DescriptionStyleModel",
          "model_module_version": "1.5.0",
          "state": {
            "_model_module": "@jupyter-widgets/controls",
            "_model_module_version": "1.5.0",
            "_model_name": "DescriptionStyleModel",
            "_view_count": null,
            "_view_module": "@jupyter-widgets/base",
            "_view_module_version": "1.2.0",
            "_view_name": "StyleView",
            "description_width": ""
          }
        },
        "422127daa87e415db22d938ec6e1be7e": {
          "model_module": "@jupyter-widgets/base",
          "model_name": "LayoutModel",
          "model_module_version": "1.2.0",
          "state": {
            "_model_module": "@jupyter-widgets/base",
            "_model_module_version": "1.2.0",
            "_model_name": "LayoutModel",
            "_view_count": null,
            "_view_module": "@jupyter-widgets/base",
            "_view_module_version": "1.2.0",
            "_view_name": "LayoutView",
            "align_content": null,
            "align_items": null,
            "align_self": null,
            "border": null,
            "bottom": null,
            "display": null,
            "flex": null,
            "flex_flow": null,
            "grid_area": null,
            "grid_auto_columns": null,
            "grid_auto_flow": null,
            "grid_auto_rows": null,
            "grid_column": null,
            "grid_gap": null,
            "grid_row": null,
            "grid_template_areas": null,
            "grid_template_columns": null,
            "grid_template_rows": null,
            "height": null,
            "justify_content": null,
            "justify_items": null,
            "left": null,
            "margin": null,
            "max_height": null,
            "max_width": null,
            "min_height": null,
            "min_width": null,
            "object_fit": null,
            "object_position": null,
            "order": null,
            "overflow": null,
            "overflow_x": null,
            "overflow_y": null,
            "padding": null,
            "right": null,
            "top": null,
            "visibility": null,
            "width": null
          }
        },
        "e0ef53826ca14fe59d59f1f8ad3efc5f": {
          "model_module": "@jupyter-widgets/controls",
          "model_name": "ProgressStyleModel",
          "model_module_version": "1.5.0",
          "state": {
            "_model_module": "@jupyter-widgets/controls",
            "_model_module_version": "1.5.0",
            "_model_name": "ProgressStyleModel",
            "_view_count": null,
            "_view_module": "@jupyter-widgets/base",
            "_view_module_version": "1.2.0",
            "_view_name": "StyleView",
            "bar_color": null,
            "description_width": ""
          }
        },
        "3b0b2da5efb5486eb77794ff8a338111": {
          "model_module": "@jupyter-widgets/base",
          "model_name": "LayoutModel",
          "model_module_version": "1.2.0",
          "state": {
            "_model_module": "@jupyter-widgets/base",
            "_model_module_version": "1.2.0",
            "_model_name": "LayoutModel",
            "_view_count": null,
            "_view_module": "@jupyter-widgets/base",
            "_view_module_version": "1.2.0",
            "_view_name": "LayoutView",
            "align_content": null,
            "align_items": null,
            "align_self": null,
            "border": null,
            "bottom": null,
            "display": null,
            "flex": null,
            "flex_flow": null,
            "grid_area": null,
            "grid_auto_columns": null,
            "grid_auto_flow": null,
            "grid_auto_rows": null,
            "grid_column": null,
            "grid_gap": null,
            "grid_row": null,
            "grid_template_areas": null,
            "grid_template_columns": null,
            "grid_template_rows": null,
            "height": null,
            "justify_content": null,
            "justify_items": null,
            "left": null,
            "margin": null,
            "max_height": null,
            "max_width": null,
            "min_height": null,
            "min_width": null,
            "object_fit": null,
            "object_position": null,
            "order": null,
            "overflow": null,
            "overflow_x": null,
            "overflow_y": null,
            "padding": null,
            "right": null,
            "top": null,
            "visibility": null,
            "width": null
          }
        },
        "803a56b4c6df41a39e2c677fc4d44d5a": {
          "model_module": "@jupyter-widgets/controls",
          "model_name": "DescriptionStyleModel",
          "model_module_version": "1.5.0",
          "state": {
            "_model_module": "@jupyter-widgets/controls",
            "_model_module_version": "1.5.0",
            "_model_name": "DescriptionStyleModel",
            "_view_count": null,
            "_view_module": "@jupyter-widgets/base",
            "_view_module_version": "1.2.0",
            "_view_name": "StyleView",
            "description_width": ""
          }
        },
        "fee2c0431da1429c9fbcd64d500e2a91": {
          "model_module": "@jupyter-widgets/controls",
          "model_name": "HBoxModel",
          "model_module_version": "1.5.0",
          "state": {
            "_dom_classes": [],
            "_model_module": "@jupyter-widgets/controls",
            "_model_module_version": "1.5.0",
            "_model_name": "HBoxModel",
            "_view_count": null,
            "_view_module": "@jupyter-widgets/controls",
            "_view_module_version": "1.5.0",
            "_view_name": "HBoxView",
            "box_style": "",
            "children": [
              "IPY_MODEL_50ea47841f3f47b58578bc671451cc65",
              "IPY_MODEL_f2b4aa26bb634d62bc13a4fca6d50fcb",
              "IPY_MODEL_b4b22883ed8844c59db3af94f25b55dc"
            ],
            "layout": "IPY_MODEL_f290661e269b47bba75bcb8b4bb9f880"
          }
        },
        "50ea47841f3f47b58578bc671451cc65": {
          "model_module": "@jupyter-widgets/controls",
          "model_name": "HTMLModel",
          "model_module_version": "1.5.0",
          "state": {
            "_dom_classes": [],
            "_model_module": "@jupyter-widgets/controls",
            "_model_module_version": "1.5.0",
            "_model_name": "HTMLModel",
            "_view_count": null,
            "_view_module": "@jupyter-widgets/controls",
            "_view_module_version": "1.5.0",
            "_view_name": "HTMLView",
            "description": "",
            "description_tooltip": null,
            "layout": "IPY_MODEL_4acecbcad10847ef9fc2d82dea91d590",
            "placeholder": "​",
            "style": "IPY_MODEL_93f6875c155342f9b85c1acb625fb8b2",
            "value": "Map: 100%"
          }
        },
        "f2b4aa26bb634d62bc13a4fca6d50fcb": {
          "model_module": "@jupyter-widgets/controls",
          "model_name": "FloatProgressModel",
          "model_module_version": "1.5.0",
          "state": {
            "_dom_classes": [],
            "_model_module": "@jupyter-widgets/controls",
            "_model_module_version": "1.5.0",
            "_model_name": "FloatProgressModel",
            "_view_count": null,
            "_view_module": "@jupyter-widgets/controls",
            "_view_module_version": "1.5.0",
            "_view_name": "ProgressView",
            "bar_style": "success",
            "description": "",
            "description_tooltip": null,
            "layout": "IPY_MODEL_70722d363d7848d391b25f08fbfd37ef",
            "max": 2000,
            "min": 0,
            "orientation": "horizontal",
            "style": "IPY_MODEL_875f477bb27f4175af7b28f5f7c90d1e",
            "value": 2000
          }
        },
        "b4b22883ed8844c59db3af94f25b55dc": {
          "model_module": "@jupyter-widgets/controls",
          "model_name": "HTMLModel",
          "model_module_version": "1.5.0",
          "state": {
            "_dom_classes": [],
            "_model_module": "@jupyter-widgets/controls",
            "_model_module_version": "1.5.0",
            "_model_name": "HTMLModel",
            "_view_count": null,
            "_view_module": "@jupyter-widgets/controls",
            "_view_module_version": "1.5.0",
            "_view_name": "HTMLView",
            "description": "",
            "description_tooltip": null,
            "layout": "IPY_MODEL_667edc8f12a747e88269b6d721c3fedb",
            "placeholder": "​",
            "style": "IPY_MODEL_71fe78b96d22468c928604be809b07bd",
            "value": " 2000/2000 [00:00&lt;00:00, 7173.13 examples/s]"
          }
        },
        "f290661e269b47bba75bcb8b4bb9f880": {
          "model_module": "@jupyter-widgets/base",
          "model_name": "LayoutModel",
          "model_module_version": "1.2.0",
          "state": {
            "_model_module": "@jupyter-widgets/base",
            "_model_module_version": "1.2.0",
            "_model_name": "LayoutModel",
            "_view_count": null,
            "_view_module": "@jupyter-widgets/base",
            "_view_module_version": "1.2.0",
            "_view_name": "LayoutView",
            "align_content": null,
            "align_items": null,
            "align_self": null,
            "border": null,
            "bottom": null,
            "display": null,
            "flex": null,
            "flex_flow": null,
            "grid_area": null,
            "grid_auto_columns": null,
            "grid_auto_flow": null,
            "grid_auto_rows": null,
            "grid_column": null,
            "grid_gap": null,
            "grid_row": null,
            "grid_template_areas": null,
            "grid_template_columns": null,
            "grid_template_rows": null,
            "height": null,
            "justify_content": null,
            "justify_items": null,
            "left": null,
            "margin": null,
            "max_height": null,
            "max_width": null,
            "min_height": null,
            "min_width": null,
            "object_fit": null,
            "object_position": null,
            "order": null,
            "overflow": null,
            "overflow_x": null,
            "overflow_y": null,
            "padding": null,
            "right": null,
            "top": null,
            "visibility": null,
            "width": null
          }
        },
        "4acecbcad10847ef9fc2d82dea91d590": {
          "model_module": "@jupyter-widgets/base",
          "model_name": "LayoutModel",
          "model_module_version": "1.2.0",
          "state": {
            "_model_module": "@jupyter-widgets/base",
            "_model_module_version": "1.2.0",
            "_model_name": "LayoutModel",
            "_view_count": null,
            "_view_module": "@jupyter-widgets/base",
            "_view_module_version": "1.2.0",
            "_view_name": "LayoutView",
            "align_content": null,
            "align_items": null,
            "align_self": null,
            "border": null,
            "bottom": null,
            "display": null,
            "flex": null,
            "flex_flow": null,
            "grid_area": null,
            "grid_auto_columns": null,
            "grid_auto_flow": null,
            "grid_auto_rows": null,
            "grid_column": null,
            "grid_gap": null,
            "grid_row": null,
            "grid_template_areas": null,
            "grid_template_columns": null,
            "grid_template_rows": null,
            "height": null,
            "justify_content": null,
            "justify_items": null,
            "left": null,
            "margin": null,
            "max_height": null,
            "max_width": null,
            "min_height": null,
            "min_width": null,
            "object_fit": null,
            "object_position": null,
            "order": null,
            "overflow": null,
            "overflow_x": null,
            "overflow_y": null,
            "padding": null,
            "right": null,
            "top": null,
            "visibility": null,
            "width": null
          }
        },
        "93f6875c155342f9b85c1acb625fb8b2": {
          "model_module": "@jupyter-widgets/controls",
          "model_name": "DescriptionStyleModel",
          "model_module_version": "1.5.0",
          "state": {
            "_model_module": "@jupyter-widgets/controls",
            "_model_module_version": "1.5.0",
            "_model_name": "DescriptionStyleModel",
            "_view_count": null,
            "_view_module": "@jupyter-widgets/base",
            "_view_module_version": "1.2.0",
            "_view_name": "StyleView",
            "description_width": ""
          }
        },
        "70722d363d7848d391b25f08fbfd37ef": {
          "model_module": "@jupyter-widgets/base",
          "model_name": "LayoutModel",
          "model_module_version": "1.2.0",
          "state": {
            "_model_module": "@jupyter-widgets/base",
            "_model_module_version": "1.2.0",
            "_model_name": "LayoutModel",
            "_view_count": null,
            "_view_module": "@jupyter-widgets/base",
            "_view_module_version": "1.2.0",
            "_view_name": "LayoutView",
            "align_content": null,
            "align_items": null,
            "align_self": null,
            "border": null,
            "bottom": null,
            "display": null,
            "flex": null,
            "flex_flow": null,
            "grid_area": null,
            "grid_auto_columns": null,
            "grid_auto_flow": null,
            "grid_auto_rows": null,
            "grid_column": null,
            "grid_gap": null,
            "grid_row": null,
            "grid_template_areas": null,
            "grid_template_columns": null,
            "grid_template_rows": null,
            "height": null,
            "justify_content": null,
            "justify_items": null,
            "left": null,
            "margin": null,
            "max_height": null,
            "max_width": null,
            "min_height": null,
            "min_width": null,
            "object_fit": null,
            "object_position": null,
            "order": null,
            "overflow": null,
            "overflow_x": null,
            "overflow_y": null,
            "padding": null,
            "right": null,
            "top": null,
            "visibility": null,
            "width": null
          }
        },
        "875f477bb27f4175af7b28f5f7c90d1e": {
          "model_module": "@jupyter-widgets/controls",
          "model_name": "ProgressStyleModel",
          "model_module_version": "1.5.0",
          "state": {
            "_model_module": "@jupyter-widgets/controls",
            "_model_module_version": "1.5.0",
            "_model_name": "ProgressStyleModel",
            "_view_count": null,
            "_view_module": "@jupyter-widgets/base",
            "_view_module_version": "1.2.0",
            "_view_name": "StyleView",
            "bar_color": null,
            "description_width": ""
          }
        },
        "667edc8f12a747e88269b6d721c3fedb": {
          "model_module": "@jupyter-widgets/base",
          "model_name": "LayoutModel",
          "model_module_version": "1.2.0",
          "state": {
            "_model_module": "@jupyter-widgets/base",
            "_model_module_version": "1.2.0",
            "_model_name": "LayoutModel",
            "_view_count": null,
            "_view_module": "@jupyter-widgets/base",
            "_view_module_version": "1.2.0",
            "_view_name": "LayoutView",
            "align_content": null,
            "align_items": null,
            "align_self": null,
            "border": null,
            "bottom": null,
            "display": null,
            "flex": null,
            "flex_flow": null,
            "grid_area": null,
            "grid_auto_columns": null,
            "grid_auto_flow": null,
            "grid_auto_rows": null,
            "grid_column": null,
            "grid_gap": null,
            "grid_row": null,
            "grid_template_areas": null,
            "grid_template_columns": null,
            "grid_template_rows": null,
            "height": null,
            "justify_content": null,
            "justify_items": null,
            "left": null,
            "margin": null,
            "max_height": null,
            "max_width": null,
            "min_height": null,
            "min_width": null,
            "object_fit": null,
            "object_position": null,
            "order": null,
            "overflow": null,
            "overflow_x": null,
            "overflow_y": null,
            "padding": null,
            "right": null,
            "top": null,
            "visibility": null,
            "width": null
          }
        },
        "71fe78b96d22468c928604be809b07bd": {
          "model_module": "@jupyter-widgets/controls",
          "model_name": "DescriptionStyleModel",
          "model_module_version": "1.5.0",
          "state": {
            "_model_module": "@jupyter-widgets/controls",
            "_model_module_version": "1.5.0",
            "_model_name": "DescriptionStyleModel",
            "_view_count": null,
            "_view_module": "@jupyter-widgets/base",
            "_view_module_version": "1.2.0",
            "_view_name": "StyleView",
            "description_width": ""
          }
        }
      }
    }
  },
  "cells": [
    {
      "cell_type": "code",
      "execution_count": 1,
      "metadata": {
        "colab": {
          "base_uri": "https://localhost:8080/"
        },
        "id": "1MwzODmbi-sr",
        "outputId": "8f0cad27-c48e-45bd-d269-8a243dff1ad5"
      },
      "outputs": [
        {
          "output_type": "stream",
          "name": "stdout",
          "text": [
            "Collecting datasets\n",
            "  Downloading datasets-3.0.0-py3-none-any.whl.metadata (19 kB)\n",
            "Requirement already satisfied: transformers in /usr/local/lib/python3.10/dist-packages (4.44.2)\n",
            "Requirement already satisfied: accelerate in /usr/local/lib/python3.10/dist-packages (0.34.2)\n",
            "Requirement already satisfied: filelock in /usr/local/lib/python3.10/dist-packages (from datasets) (3.16.1)\n",
            "Requirement already satisfied: numpy>=1.17 in /usr/local/lib/python3.10/dist-packages (from datasets) (1.26.4)\n",
            "Collecting pyarrow>=15.0.0 (from datasets)\n",
            "  Downloading pyarrow-17.0.0-cp310-cp310-manylinux_2_28_x86_64.whl.metadata (3.3 kB)\n",
            "Collecting dill<0.3.9,>=0.3.0 (from datasets)\n",
            "  Downloading dill-0.3.8-py3-none-any.whl.metadata (10 kB)\n",
            "Requirement already satisfied: pandas in /usr/local/lib/python3.10/dist-packages (from datasets) (2.1.4)\n",
            "Requirement already satisfied: requests>=2.32.2 in /usr/local/lib/python3.10/dist-packages (from datasets) (2.32.3)\n",
            "Requirement already satisfied: tqdm>=4.66.3 in /usr/local/lib/python3.10/dist-packages (from datasets) (4.66.5)\n",
            "Collecting xxhash (from datasets)\n",
            "  Downloading xxhash-3.5.0-cp310-cp310-manylinux_2_17_x86_64.manylinux2014_x86_64.whl.metadata (12 kB)\n",
            "Collecting multiprocess (from datasets)\n",
            "  Downloading multiprocess-0.70.16-py310-none-any.whl.metadata (7.2 kB)\n",
            "Requirement already satisfied: fsspec<=2024.6.1,>=2023.1.0 in /usr/local/lib/python3.10/dist-packages (from fsspec[http]<=2024.6.1,>=2023.1.0->datasets) (2024.6.1)\n",
            "Requirement already satisfied: aiohttp in /usr/local/lib/python3.10/dist-packages (from datasets) (3.10.5)\n",
            "Requirement already satisfied: huggingface-hub>=0.22.0 in /usr/local/lib/python3.10/dist-packages (from datasets) (0.24.7)\n",
            "Requirement already satisfied: packaging in /usr/local/lib/python3.10/dist-packages (from datasets) (24.1)\n",
            "Requirement already satisfied: pyyaml>=5.1 in /usr/local/lib/python3.10/dist-packages (from datasets) (6.0.2)\n",
            "Requirement already satisfied: regex!=2019.12.17 in /usr/local/lib/python3.10/dist-packages (from transformers) (2024.9.11)\n",
            "Requirement already satisfied: safetensors>=0.4.1 in /usr/local/lib/python3.10/dist-packages (from transformers) (0.4.5)\n",
            "Requirement already satisfied: tokenizers<0.20,>=0.19 in /usr/local/lib/python3.10/dist-packages (from transformers) (0.19.1)\n",
            "Requirement already satisfied: psutil in /usr/local/lib/python3.10/dist-packages (from accelerate) (5.9.5)\n",
            "Requirement already satisfied: torch>=1.10.0 in /usr/local/lib/python3.10/dist-packages (from accelerate) (2.4.1+cu121)\n",
            "Requirement already satisfied: aiohappyeyeballs>=2.3.0 in /usr/local/lib/python3.10/dist-packages (from aiohttp->datasets) (2.4.0)\n",
            "Requirement already satisfied: aiosignal>=1.1.2 in /usr/local/lib/python3.10/dist-packages (from aiohttp->datasets) (1.3.1)\n",
            "Requirement already satisfied: attrs>=17.3.0 in /usr/local/lib/python3.10/dist-packages (from aiohttp->datasets) (24.2.0)\n",
            "Requirement already satisfied: frozenlist>=1.1.1 in /usr/local/lib/python3.10/dist-packages (from aiohttp->datasets) (1.4.1)\n",
            "Requirement already satisfied: multidict<7.0,>=4.5 in /usr/local/lib/python3.10/dist-packages (from aiohttp->datasets) (6.1.0)\n",
            "Requirement already satisfied: yarl<2.0,>=1.0 in /usr/local/lib/python3.10/dist-packages (from aiohttp->datasets) (1.11.1)\n",
            "Requirement already satisfied: async-timeout<5.0,>=4.0 in /usr/local/lib/python3.10/dist-packages (from aiohttp->datasets) (4.0.3)\n",
            "Requirement already satisfied: typing-extensions>=3.7.4.3 in /usr/local/lib/python3.10/dist-packages (from huggingface-hub>=0.22.0->datasets) (4.12.2)\n",
            "Requirement already satisfied: charset-normalizer<4,>=2 in /usr/local/lib/python3.10/dist-packages (from requests>=2.32.2->datasets) (3.3.2)\n",
            "Requirement already satisfied: idna<4,>=2.5 in /usr/local/lib/python3.10/dist-packages (from requests>=2.32.2->datasets) (3.10)\n",
            "Requirement already satisfied: urllib3<3,>=1.21.1 in /usr/local/lib/python3.10/dist-packages (from requests>=2.32.2->datasets) (2.2.3)\n",
            "Requirement already satisfied: certifi>=2017.4.17 in /usr/local/lib/python3.10/dist-packages (from requests>=2.32.2->datasets) (2024.8.30)\n",
            "Requirement already satisfied: sympy in /usr/local/lib/python3.10/dist-packages (from torch>=1.10.0->accelerate) (1.13.3)\n",
            "Requirement already satisfied: networkx in /usr/local/lib/python3.10/dist-packages (from torch>=1.10.0->accelerate) (3.3)\n",
            "Requirement already satisfied: jinja2 in /usr/local/lib/python3.10/dist-packages (from torch>=1.10.0->accelerate) (3.1.4)\n",
            "Requirement already satisfied: python-dateutil>=2.8.2 in /usr/local/lib/python3.10/dist-packages (from pandas->datasets) (2.8.2)\n",
            "Requirement already satisfied: pytz>=2020.1 in /usr/local/lib/python3.10/dist-packages (from pandas->datasets) (2024.2)\n",
            "Requirement already satisfied: tzdata>=2022.1 in /usr/local/lib/python3.10/dist-packages (from pandas->datasets) (2024.1)\n",
            "Requirement already satisfied: six>=1.5 in /usr/local/lib/python3.10/dist-packages (from python-dateutil>=2.8.2->pandas->datasets) (1.16.0)\n",
            "Requirement already satisfied: MarkupSafe>=2.0 in /usr/local/lib/python3.10/dist-packages (from jinja2->torch>=1.10.0->accelerate) (2.1.5)\n",
            "Requirement already satisfied: mpmath<1.4,>=1.1.0 in /usr/local/lib/python3.10/dist-packages (from sympy->torch>=1.10.0->accelerate) (1.3.0)\n",
            "Downloading datasets-3.0.0-py3-none-any.whl (474 kB)\n",
            "\u001b[2K   \u001b[90m━━━━━━━━━━━━━━━━━━━━━━━━━━━━━━━━━━━━━━━━\u001b[0m \u001b[32m474.3/474.3 kB\u001b[0m \u001b[31m13.9 MB/s\u001b[0m eta \u001b[36m0:00:00\u001b[0m\n",
            "\u001b[?25hDownloading dill-0.3.8-py3-none-any.whl (116 kB)\n",
            "\u001b[2K   \u001b[90m━━━━━━━━━━━━━━━━━━━━━━━━━━━━━━━━━━━━━━━━\u001b[0m \u001b[32m116.3/116.3 kB\u001b[0m \u001b[31m11.2 MB/s\u001b[0m eta \u001b[36m0:00:00\u001b[0m\n",
            "\u001b[?25hDownloading pyarrow-17.0.0-cp310-cp310-manylinux_2_28_x86_64.whl (39.9 MB)\n",
            "\u001b[2K   \u001b[90m━━━━━━━━━━━━━━━━━━━━━━━━━━━━━━━━━━━━━━━━\u001b[0m \u001b[32m39.9/39.9 MB\u001b[0m \u001b[31m15.0 MB/s\u001b[0m eta \u001b[36m0:00:00\u001b[0m\n",
            "\u001b[?25hDownloading multiprocess-0.70.16-py310-none-any.whl (134 kB)\n",
            "\u001b[2K   \u001b[90m━━━━━━━━━━━━━━━━━━━━━━━━━━━━━━━━━━━━━━━━\u001b[0m \u001b[32m134.8/134.8 kB\u001b[0m \u001b[31m6.5 MB/s\u001b[0m eta \u001b[36m0:00:00\u001b[0m\n",
            "\u001b[?25hDownloading xxhash-3.5.0-cp310-cp310-manylinux_2_17_x86_64.manylinux2014_x86_64.whl (194 kB)\n",
            "\u001b[2K   \u001b[90m━━━━━━━━━━━━━━━━━━━━━━━━━━━━━━━━━━━━━━━━\u001b[0m \u001b[32m194.1/194.1 kB\u001b[0m \u001b[31m15.7 MB/s\u001b[0m eta \u001b[36m0:00:00\u001b[0m\n",
            "\u001b[?25hInstalling collected packages: xxhash, pyarrow, dill, multiprocess, datasets\n",
            "  Attempting uninstall: pyarrow\n",
            "    Found existing installation: pyarrow 14.0.2\n",
            "    Uninstalling pyarrow-14.0.2:\n",
            "      Successfully uninstalled pyarrow-14.0.2\n",
            "\u001b[31mERROR: pip's dependency resolver does not currently take into account all the packages that are installed. This behaviour is the source of the following dependency conflicts.\n",
            "cudf-cu12 24.4.1 requires pyarrow<15.0.0a0,>=14.0.1, but you have pyarrow 17.0.0 which is incompatible.\u001b[0m\u001b[31m\n",
            "\u001b[0mSuccessfully installed datasets-3.0.0 dill-0.3.8 multiprocess-0.70.16 pyarrow-17.0.0 xxhash-3.5.0\n"
          ]
        }
      ],
      "source": [
        "! pip install datasets transformers accelerate"
      ]
    },
    {
      "cell_type": "code",
      "source": [
        "import tensorflow as tf\n",
        "from transformers import TFAutoModel, AutoTokenizer, TFAutoModelForSequenceClassification ,DistilBertTokenizer\n",
        "from datasets import load_dataset"
      ],
      "metadata": {
        "id": "7GfoOugQjCAv"
      },
      "execution_count": 6,
      "outputs": []
    },
    {
      "cell_type": "code",
      "source": [
        "model = TFAutoModel.from_pretrained('bert-base-uncased')"
      ],
      "metadata": {
        "colab": {
          "base_uri": "https://localhost:8080/",
          "height": 188,
          "referenced_widgets": [
            "0cb8409ef5844b26b5b91784d0d6e75a",
            "e3224cc646824f25911311945c1bd394",
            "f0abf028fdcb4a7f991543919670395e",
            "30e64355de9f4e08a2cce8b8dca0e09b",
            "5aad941ed1d64101afb2663550bb0f46",
            "f38ceac21fcb4f97acccf8b0620c1df7",
            "750718727383406383eeec482b628f63",
            "550772ad46d44b169a4bffaf33fd3010",
            "d0a08f25a42a4f55867c8d10414ae22d",
            "cb0a211ef27e45dca201cd49359ac761",
            "842695ec6bcd4a8aabd54f662339f93e",
            "ec79883a57194fe4b8951e967b2f9a2b",
            "e84ed882baeb40a695a77512951d8981",
            "325dd169effa4ecb89918506217baa28",
            "59c65f33925d48759d67669a81baaef0",
            "84ce57cfb845452a81864cc0d82b34e0",
            "ccd33582d96440419026634186bb20e5",
            "e801f0e4af0444cca95d4f6eafe9126b",
            "aaaf893859d1461ba4a4953855a478c6",
            "ce9d2f14da814299ad3fb24563a7f06d",
            "b278ed7e7dca4fc8909ab400448422a6",
            "baa657a37f93455b97e139ccd8e3339f"
          ]
        },
        "id": "oxg7Ly96jN6t",
        "outputId": "90d169f1-d6b0-44e8-c450-24495e1dd2fd"
      },
      "execution_count": 55,
      "outputs": [
        {
          "output_type": "display_data",
          "data": {
            "text/plain": [
              "config.json:   0%|          | 0.00/570 [00:00<?, ?B/s]"
            ],
            "application/vnd.jupyter.widget-view+json": {
              "version_major": 2,
              "version_minor": 0,
              "model_id": "0cb8409ef5844b26b5b91784d0d6e75a"
            }
          },
          "metadata": {}
        },
        {
          "output_type": "display_data",
          "data": {
            "text/plain": [
              "model.safetensors:   0%|          | 0.00/440M [00:00<?, ?B/s]"
            ],
            "application/vnd.jupyter.widget-view+json": {
              "version_major": 2,
              "version_minor": 0,
              "model_id": "ec79883a57194fe4b8951e967b2f9a2b"
            }
          },
          "metadata": {}
        },
        {
          "output_type": "stream",
          "name": "stderr",
          "text": [
            "Some weights of the PyTorch model were not used when initializing the TF 2.0 model TFBertModel: ['cls.predictions.transform.dense.weight', 'cls.seq_relationship.weight', 'cls.predictions.bias', 'cls.seq_relationship.bias', 'cls.predictions.transform.LayerNorm.weight', 'cls.predictions.transform.dense.bias', 'cls.predictions.transform.LayerNorm.bias']\n",
            "- This IS expected if you are initializing TFBertModel from a PyTorch model trained on another task or with another architecture (e.g. initializing a TFBertForSequenceClassification model from a BertForPreTraining model).\n",
            "- This IS NOT expected if you are initializing TFBertModel from a PyTorch model that you expect to be exactly identical (e.g. initializing a TFBertForSequenceClassification model from a BertForSequenceClassification model).\n",
            "All the weights of TFBertModel were initialized from the PyTorch model.\n",
            "If your task is similar to the task the model of the checkpoint was trained on, you can already use TFBertModel for predictions without further training.\n"
          ]
        }
      ]
    },
    {
      "cell_type": "code",
      "source": [
        "tokenizer = AutoTokenizer.from_pretrained('bert-base-uncased')"
      ],
      "metadata": {
        "colab": {
          "base_uri": "https://localhost:8080/",
          "height": 113,
          "referenced_widgets": [
            "f67c285bc0c64a2086384c20a013bda7",
            "141f0c21022d4630aa3c42cb846a85b3",
            "cd94447f597a4ae69614f72fdac37b73",
            "d80cd6c049e24f0c9177b6e23f74ee09",
            "4073eb58045c48e7a44a429fc6d45513",
            "4d88ba7710f348caa9dedd546519c49f",
            "0bd221841ff74640b70b692f56a3e764",
            "dc75613adf40465ab33113091608bb7b",
            "36cd6e019129461a9bae6e038f9d0406",
            "4d63be7ef1cb4211a342872a31ba4baa",
            "0bcf5cb9755748f3a5aac72eed592eef",
            "3f12eef7d3b148198a9ea5221c3efd80",
            "f9a9bf70192748e9b3a689543c9649ab",
            "08c04f9591fb4e858ed099b78299d734",
            "8c79ab2f1dfa409ea423ca7f35d1c151",
            "e2102d6a92604cf0932fc94fc86f7a8b",
            "3fa5b6407ce84f4688ce94e274860f77",
            "4246b8423b83474ab7d41167bbb3104f",
            "2c99129c0b0b4b5e95c6dab387d31fc3",
            "7fb1ad2d7a904661858d821a866e20f0",
            "38b0d06012794fb592af5fbb95eb8d7f",
            "ec8792d21db2415eb30e88f3611a32de",
            "af4cc4bf21874a90b793c59890f74c1e",
            "51d6ac43d64e45a880aa3bf940ffa6bf",
            "0f57a6fe606747a3b3a0f1e454a64851",
            "cf1f859d04904f3fa001ce628e30bbfd",
            "66f4d192145b44c89738561970480855",
            "d41c7dbaf5d8474ab3a1fe483abfc11f",
            "3725599e9f864d67857796eb0f08a0de",
            "2b0978a6a69d4189ac9aaf24546cd22f",
            "9ea8782566674b9ba93a3daa0091e6d0",
            "5bde76fa0a7643b7b9b7028139492602",
            "3728824a14be4b8980816a296a188a7f"
          ]
        },
        "id": "PwFSVX4zjcPN",
        "outputId": "2ac08824-e2e2-431a-c6cc-952f8114d8ea"
      },
      "execution_count": 56,
      "outputs": [
        {
          "output_type": "display_data",
          "data": {
            "text/plain": [
              "tokenizer_config.json:   0%|          | 0.00/48.0 [00:00<?, ?B/s]"
            ],
            "application/vnd.jupyter.widget-view+json": {
              "version_major": 2,
              "version_minor": 0,
              "model_id": "f67c285bc0c64a2086384c20a013bda7"
            }
          },
          "metadata": {}
        },
        {
          "output_type": "display_data",
          "data": {
            "text/plain": [
              "vocab.txt:   0%|          | 0.00/232k [00:00<?, ?B/s]"
            ],
            "application/vnd.jupyter.widget-view+json": {
              "version_major": 2,
              "version_minor": 0,
              "model_id": "3f12eef7d3b148198a9ea5221c3efd80"
            }
          },
          "metadata": {}
        },
        {
          "output_type": "display_data",
          "data": {
            "text/plain": [
              "tokenizer.json:   0%|          | 0.00/466k [00:00<?, ?B/s]"
            ],
            "application/vnd.jupyter.widget-view+json": {
              "version_major": 2,
              "version_minor": 0,
              "model_id": "af4cc4bf21874a90b793c59890f74c1e"
            }
          },
          "metadata": {}
        }
      ]
    },
    {
      "cell_type": "code",
      "source": [
        "inputs = tokenizer(['Hello world', 'Hi how are you'], padding=True, truncation=True,\n",
        "                  return_tensors='tf')\n",
        "inputs\n",
        "# Padding is set true, so you can see the first list in the first array will have to zeros in the end to fit the same token length as the second sentence\n",
        "# The second array is the masking\n",
        "# Truncation will truncate any sentence that exceeds 512 words"
      ],
      "metadata": {
        "colab": {
          "base_uri": "https://localhost:8080/"
        },
        "id": "9uKmcym1jof9",
        "outputId": "106232b4-0567-439e-8b0e-9d861968b2c1"
      },
      "execution_count": 57,
      "outputs": [
        {
          "output_type": "execute_result",
          "data": {
            "text/plain": [
              "{'input_ids': <tf.Tensor: shape=(2, 6), dtype=int32, numpy=\n",
              "array([[ 101, 7592, 2088,  102,    0,    0],\n",
              "       [ 101, 7632, 2129, 2024, 2017,  102]], dtype=int32)>, 'token_type_ids': <tf.Tensor: shape=(2, 6), dtype=int32, numpy=\n",
              "array([[0, 0, 0, 0, 0, 0],\n",
              "       [0, 0, 0, 0, 0, 0]], dtype=int32)>, 'attention_mask': <tf.Tensor: shape=(2, 6), dtype=int32, numpy=\n",
              "array([[1, 1, 1, 1, 0, 0],\n",
              "       [1, 1, 1, 1, 1, 1]], dtype=int32)>}"
            ]
          },
          "metadata": {},
          "execution_count": 57
        }
      ]
    },
    {
      "cell_type": "code",
      "source": [
        "output = model(inputs)\n",
        "output\n",
        "# later on we convert logits using softmax for classification\n",
        "# We will only be using the pooler output"
      ],
      "metadata": {
        "colab": {
          "base_uri": "https://localhost:8080/"
        },
        "id": "qQM7qVkdj3pV",
        "outputId": "db40a4c6-3d6a-49bf-e21b-24b5bc77f83f"
      },
      "execution_count": 58,
      "outputs": [
        {
          "output_type": "execute_result",
          "data": {
            "text/plain": [
              "TFBaseModelOutputWithPoolingAndCrossAttentions(last_hidden_state=<tf.Tensor: shape=(2, 6, 768), dtype=float32, numpy=\n",
              "array([[[-0.16888338,  0.13606317, -0.13940048, ..., -0.6251124 ,\n",
              "          0.05217258,  0.36714536],\n",
              "        [-0.36327428,  0.14121838,  0.8799863 , ...,  0.1043303 ,\n",
              "          0.2887567 ,  0.37267867],\n",
              "        [-0.6985949 , -0.69879764,  0.06450213, ..., -0.22103655,\n",
              "          0.00986852, -0.5939797 ],\n",
              "        [ 0.83098346,  0.1236672 , -0.15119052, ...,  0.10309628,\n",
              "         -0.6779264 , -0.26285213],\n",
              "        [-0.40266627, -0.01928282,  0.5732499 , ..., -0.20656854,\n",
              "          0.02338545,  0.20126297],\n",
              "        [-0.6228407 , -0.2745354 ,  0.18117562, ..., -0.12944865,\n",
              "         -0.03839097, -0.05733195]],\n",
              "\n",
              "       [[ 0.09286568, -0.02636383, -0.12239324, ..., -0.21063548,\n",
              "          0.17386365,  0.17250982],\n",
              "        [ 0.40742064, -0.05931018,  0.5523468 , ..., -0.6790569 ,\n",
              "          0.65557426, -0.29456508],\n",
              "        [-0.21155252, -0.6858645 , -0.46280813, ...,  0.1527852 ,\n",
              "          0.5977421 , -0.9102012 ],\n",
              "        [ 0.3992122 , -1.3207808 , -0.08008836, ..., -0.3212534 ,\n",
              "          0.2557288 , -0.5780443 ],\n",
              "        [-0.07565151, -1.339384  ,  0.18162897, ...,  0.07461156,\n",
              "          0.4031847 , -0.70799905],\n",
              "        [ 0.5988929 , -0.28409362, -0.34899223, ...,  0.3042002 ,\n",
              "         -0.43675515, -0.20969608]]], dtype=float32)>, pooler_output=<tf.Tensor: shape=(2, 768), dtype=float32, numpy=\n",
              "array([[-0.9061534 , -0.31115308, -0.6216535 , ..., -0.30575198,\n",
              "        -0.64009386,  0.9166176 ],\n",
              "       [-0.93096685, -0.33807012, -0.6216148 , ..., -0.4401887 ,\n",
              "        -0.68128836,  0.93488973]], dtype=float32)>, past_key_values=None, hidden_states=None, attentions=None, cross_attentions=None)"
            ]
          },
          "metadata": {},
          "execution_count": 58
        }
      ]
    },
    {
      "cell_type": "code",
      "source": [
        "data = load_dataset('SetFit/emotion')"
      ],
      "metadata": {
        "colab": {
          "base_uri": "https://localhost:8080/"
        },
        "id": "x6GTis25kVV-",
        "outputId": "cd18be24-9d63-4fac-9690-c8d908a305a1"
      },
      "execution_count": 59,
      "outputs": [
        {
          "output_type": "stream",
          "name": "stderr",
          "text": [
            "Repo card metadata block was not found. Setting CardData to empty.\n",
            "WARNING:huggingface_hub.repocard:Repo card metadata block was not found. Setting CardData to empty.\n"
          ]
        }
      ]
    },
    {
      "cell_type": "code",
      "source": [
        "data"
      ],
      "metadata": {
        "colab": {
          "base_uri": "https://localhost:8080/"
        },
        "id": "P7Xq9C28nTWW",
        "outputId": "5955213e-0c68-43c0-eff9-ceeec7213558"
      },
      "execution_count": 60,
      "outputs": [
        {
          "output_type": "execute_result",
          "data": {
            "text/plain": [
              "DatasetDict({\n",
              "    train: Dataset({\n",
              "        features: ['text', 'label', 'label_text'],\n",
              "        num_rows: 16000\n",
              "    })\n",
              "    validation: Dataset({\n",
              "        features: ['text', 'label', 'label_text'],\n",
              "        num_rows: 2000\n",
              "    })\n",
              "    test: Dataset({\n",
              "        features: ['text', 'label', 'label_text'],\n",
              "        num_rows: 2000\n",
              "    })\n",
              "})"
            ]
          },
          "metadata": {},
          "execution_count": 60
        }
      ]
    },
    {
      "cell_type": "code",
      "source": [
        "data['train'][0]"
      ],
      "metadata": {
        "colab": {
          "base_uri": "https://localhost:8080/"
        },
        "id": "Xtc9lkrTnyEv",
        "outputId": "77528a33-dd9f-4336-c270-615668d000f6"
      },
      "execution_count": 61,
      "outputs": [
        {
          "output_type": "execute_result",
          "data": {
            "text/plain": [
              "{'text': 'i didnt feel humiliated', 'label': 0, 'label_text': 'sadness'}"
            ]
          },
          "metadata": {},
          "execution_count": 61
        }
      ]
    },
    {
      "cell_type": "code",
      "source": [
        "def tokenize(batch):\n",
        "  return tokenizer(batch['text'],padding=True,truncation=True)\n",
        "# function to tokenize the sentence in my dataset"
      ],
      "metadata": {
        "id": "mrV4gvkEnXMF"
      },
      "execution_count": 62,
      "outputs": []
    },
    {
      "cell_type": "code",
      "source": [
        "data_encoded = data.map(tokenize,batched=True,batch_size=None)"
      ],
      "metadata": {
        "colab": {
          "base_uri": "https://localhost:8080/",
          "height": 113,
          "referenced_widgets": [
            "bc4d6de92e9f4744a55082cbf171dc3a",
            "7ea994e24cb54fd1ac5ca4b7778dd3db",
            "6cb245415edf469ba4e9fa44c6eac8d3",
            "c34bc6ac18c249b289fe783616ad078d",
            "cc4df950e2754b44a8aef1d2b2fa30f4",
            "4dad5540830140778bd3fae177ec5116",
            "caa70552ef454ced822739ed30dbd9d5",
            "0f095a8e962a44beb36e934dfe632a85",
            "811af12a1d2d49528204beb85ef6125a",
            "97adf84ae7644d8381e4450c7b5f437f",
            "6a16b2d8858a4b92a28a4623aea26a28",
            "935724f1b74345bfa9bffd15493a7a2a",
            "d2d8c76dd85d4436997515c503bb2e35",
            "0b91bf29e6924f1ab8cb8b2455cb26a7",
            "a2248e4770f7414cae47a8a5fb67ad9b",
            "91792bbaf91b4e6ca722297a6ab3ac11",
            "1524dc230e224ff5a47a73a3d4eb4a43",
            "c0a6a464522343c49a0c8ecb5f86f808",
            "422127daa87e415db22d938ec6e1be7e",
            "e0ef53826ca14fe59d59f1f8ad3efc5f",
            "3b0b2da5efb5486eb77794ff8a338111",
            "803a56b4c6df41a39e2c677fc4d44d5a",
            "fee2c0431da1429c9fbcd64d500e2a91",
            "50ea47841f3f47b58578bc671451cc65",
            "f2b4aa26bb634d62bc13a4fca6d50fcb",
            "b4b22883ed8844c59db3af94f25b55dc",
            "f290661e269b47bba75bcb8b4bb9f880",
            "4acecbcad10847ef9fc2d82dea91d590",
            "93f6875c155342f9b85c1acb625fb8b2",
            "70722d363d7848d391b25f08fbfd37ef",
            "875f477bb27f4175af7b28f5f7c90d1e",
            "667edc8f12a747e88269b6d721c3fedb",
            "71fe78b96d22468c928604be809b07bd"
          ]
        },
        "id": "0ANkwVZOn4ZF",
        "outputId": "1cee825e-8f9d-4047-927b-201e34f1bc7a"
      },
      "execution_count": 63,
      "outputs": [
        {
          "output_type": "display_data",
          "data": {
            "text/plain": [
              "Map:   0%|          | 0/16000 [00:00<?, ? examples/s]"
            ],
            "application/vnd.jupyter.widget-view+json": {
              "version_major": 2,
              "version_minor": 0,
              "model_id": "bc4d6de92e9f4744a55082cbf171dc3a"
            }
          },
          "metadata": {}
        },
        {
          "output_type": "display_data",
          "data": {
            "text/plain": [
              "Map:   0%|          | 0/2000 [00:00<?, ? examples/s]"
            ],
            "application/vnd.jupyter.widget-view+json": {
              "version_major": 2,
              "version_minor": 0,
              "model_id": "935724f1b74345bfa9bffd15493a7a2a"
            }
          },
          "metadata": {}
        },
        {
          "output_type": "display_data",
          "data": {
            "text/plain": [
              "Map:   0%|          | 0/2000 [00:00<?, ? examples/s]"
            ],
            "application/vnd.jupyter.widget-view+json": {
              "version_major": 2,
              "version_minor": 0,
              "model_id": "fee2c0431da1429c9fbcd64d500e2a91"
            }
          },
          "metadata": {}
        }
      ]
    },
    {
      "cell_type": "code",
      "source": [
        "data_encoded"
      ],
      "metadata": {
        "colab": {
          "base_uri": "https://localhost:8080/"
        },
        "id": "nHw0fXitoK1m",
        "outputId": "b173926a-9298-4974-df81-208231fdcd94"
      },
      "execution_count": 64,
      "outputs": [
        {
          "output_type": "execute_result",
          "data": {
            "text/plain": [
              "DatasetDict({\n",
              "    train: Dataset({\n",
              "        features: ['text', 'label', 'label_text', 'input_ids', 'token_type_ids', 'attention_mask'],\n",
              "        num_rows: 16000\n",
              "    })\n",
              "    validation: Dataset({\n",
              "        features: ['text', 'label', 'label_text', 'input_ids', 'token_type_ids', 'attention_mask'],\n",
              "        num_rows: 2000\n",
              "    })\n",
              "    test: Dataset({\n",
              "        features: ['text', 'label', 'label_text', 'input_ids', 'token_type_ids', 'attention_mask'],\n",
              "        num_rows: 2000\n",
              "    })\n",
              "})"
            ]
          },
          "metadata": {},
          "execution_count": 64
        }
      ]
    },
    {
      "cell_type": "code",
      "source": [
        "data_encoded['train']['text'][2]"
      ],
      "metadata": {
        "colab": {
          "base_uri": "https://localhost:8080/",
          "height": 35
        },
        "collapsed": true,
        "id": "i7-Hjk5Po_MP",
        "outputId": "6ce7ca2a-775b-4af9-ec63-3a178824962f"
      },
      "execution_count": 83,
      "outputs": [
        {
          "output_type": "execute_result",
          "data": {
            "text/plain": [
              "'im grabbing a minute to post i feel greedy wrong'"
            ],
            "application/vnd.google.colaboratory.intrinsic+json": {
              "type": "string"
            }
          },
          "metadata": {},
          "execution_count": 83
        }
      ]
    },
    {
      "cell_type": "code",
      "source": [
        "# setting 'input_ids', 'attention_mask', 'token_type_ids', and 'label'\n",
        "# to the tensorflow format. Now if you access this dataset you will get these\n",
        "# columns in `tf.Tensor` format\n",
        "\n",
        "data_encoded.set_format('tf',\n",
        "                            columns=['input_ids', 'attention_mask', 'label'])\n",
        "\n",
        "# setting BATCH_SIZE to 64.\n",
        "BATCH_SIZE = 64\n",
        "\n",
        "def order(inp):\n",
        "    '''\n",
        "    This function will group all the inputs of BERT\n",
        "    into a single dictionary and then output it with\n",
        "    labels.\n",
        "    '''\n",
        "    data = list(inp.values())\n",
        "    return {\n",
        "        'input_ids': data[1],\n",
        "        'attention_mask': data[2],\n",
        "    }, data[0]\n",
        "\n",
        "# converting train split of `data_encoded` to tensorflow format\n",
        "train_dataset = tf.data.Dataset.from_tensor_slices(data_encoded['train'][:])\n",
        "# set batch_size and shuffle\n",
        "train_dataset = train_dataset.batch(BATCH_SIZE).shuffle(1000)\n",
        "# map the `order` function\n",
        "train_dataset = train_dataset.map(order, num_parallel_calls=tf.data.AUTOTUNE)\n",
        "\n",
        "# ... doing the same for test set ...\n",
        "test_dataset = tf.data.Dataset.from_tensor_slices(data_encoded['test'][:])\n",
        "test_dataset = test_dataset.batch(BATCH_SIZE)\n",
        "test_dataset = test_dataset.map(order, num_parallel_calls=tf.data.AUTOTUNE)"
      ],
      "metadata": {
        "id": "4skv146vqGWl"
      },
      "execution_count": 66,
      "outputs": []
    },
    {
      "cell_type": "code",
      "source": [
        "class BERTForClassification(tf.keras.Model):\n",
        "\n",
        "    def __init__(self, bert_model, num_classes):\n",
        "        super().__init__()\n",
        "        self.bert = bert_model # The pretrained model that will extract information from inputs\n",
        "        self.fc = tf.keras.layers.Dense(num_classes, activation='softmax') # In this case an Outer Dense layer with 6 neurons since we have 6 types of emotions\n",
        "        # Using softmax on last layer for probabiliy distribution\n",
        "\n",
        "    def call(self, inputs):\n",
        "        x = self.bert(inputs)[1] # for classification tasks you only need pooler_output (returns 2D tensor only unlike hidden state which returns a 3D tensor)\n",
        "        # Hidden state layer encapture information about each word in a sentence and therefore more useful in tasks like Question-Answering\n",
        "        return self.fc(x) # passing the pooler output to the last dense layer\n",
        "\n",
        "\n",
        "\n",
        "classifier = BERTForClassification(model, num_classes=6)"
      ],
      "metadata": {
        "id": "2aebG_T7rRy5"
      },
      "execution_count": 67,
      "outputs": []
    },
    {
      "cell_type": "code",
      "source": [
        "classifier.compile(\n",
        "    optimizer=tf.keras.optimizers.Adam(learning_rate=1e-5),\n",
        "    loss=tf.keras.losses.SparseCategoricalCrossentropy(),\n",
        "    metrics=['accuracy']\n",
        ")"
      ],
      "metadata": {
        "id": "ARtTBzU4svcQ"
      },
      "execution_count": 68,
      "outputs": []
    },
    {
      "cell_type": "code",
      "source": [
        "history = classifier.fit(\n",
        "    train_dataset,\n",
        "    epochs=3\n",
        ")"
      ],
      "metadata": {
        "colab": {
          "base_uri": "https://localhost:8080/"
        },
        "id": "mP50C0lAtthX",
        "outputId": "cc081b66-d443-4f79-8555-e8426709ca18"
      },
      "execution_count": 69,
      "outputs": [
        {
          "output_type": "stream",
          "name": "stdout",
          "text": [
            "Epoch 1/3\n",
            "250/250 [==============================] - 292s 1s/step - loss: 1.0198 - accuracy: 0.6227\n",
            "Epoch 2/3\n",
            "250/250 [==============================] - 254s 1s/step - loss: 0.2651 - accuracy: 0.9071\n",
            "Epoch 3/3\n",
            "250/250 [==============================] - 254s 1s/step - loss: 0.1502 - accuracy: 0.9376\n"
          ]
        }
      ]
    },
    {
      "cell_type": "code",
      "source": [
        "classifier.evaluate(test_dataset)"
      ],
      "metadata": {
        "colab": {
          "base_uri": "https://localhost:8080/"
        },
        "id": "k2BMyEBWtvbn",
        "outputId": "16c642a3-cd8e-4647-cae7-50f00c340a0a"
      },
      "execution_count": 70,
      "outputs": [
        {
          "output_type": "stream",
          "name": "stdout",
          "text": [
            "32/32 [==============================] - 11s 267ms/step - loss: 0.1683 - accuracy: 0.9310\n"
          ]
        },
        {
          "output_type": "execute_result",
          "data": {
            "text/plain": [
              "[0.16833001375198364, 0.9309999942779541]"
            ]
          },
          "metadata": {},
          "execution_count": 70
        }
      ]
    },
    {
      "cell_type": "markdown",
      "source": [
        "# Inference"
      ],
      "metadata": {
        "id": "O8jMuuzq5uqf"
      }
    },
    {
      "cell_type": "code",
      "source": [
        "emotion_labels = {\n",
        "    0: 'sadness',\n",
        "    1: 'joy',\n",
        "    2: 'love',\n",
        "    3: 'anger',\n",
        "    4: 'fear',\n",
        "    5: 'surprise'\n",
        "}"
      ],
      "metadata": {
        "id": "-KlQFD0K0yUj"
      },
      "execution_count": 122,
      "outputs": []
    },
    {
      "cell_type": "code",
      "source": [
        "\n",
        "# Tokenize the input sentence\n",
        "inputs = tokenizer(['i remember feeling acutely distressed for a few days'], padding=True, truncation=True, return_tensors='tf')\n",
        "\n",
        "# Call the classifier to get the predictions\n",
        "output = classifier(inputs)\n",
        "\n",
        "# Get the predicted class (using tf.argmax to get the index of the max probability)\n",
        "predicted_class = tf.argmax(output, axis=1).numpy()[0]\n",
        "\n",
        "# Map the predicted class to the corresponding emotion label\n",
        "predicted_emotion = emotion_labels[predicted_class]\n",
        "\n",
        "print(f\"Predicted emotion: {predicted_emotion}\")\n"
      ],
      "metadata": {
        "colab": {
          "base_uri": "https://localhost:8080/"
        },
        "id": "LH6TcK4xyVmP",
        "outputId": "45d48e71-581f-42bb-99e1-c26995fd948e"
      },
      "execution_count": 92,
      "outputs": [
        {
          "output_type": "stream",
          "name": "stdout",
          "text": [
            "Predicted emotion: fear\n"
          ]
        }
      ]
    },
    {
      "cell_type": "code",
      "source": [
        "\n",
        "# Tokenize the input sentence\n",
        "inputs = tokenizer(['I thought the movie was pretty good'], padding=True, truncation=True, return_tensors='tf')\n",
        "\n",
        "# Call the classifier to get the predictions\n",
        "output = classifier(inputs)\n",
        "\n",
        "# Get the predicted class (using tf.argmax to get the index of the max probability)\n",
        "predicted_class = tf.argmax(output, axis=1).numpy()[0]\n",
        "\n",
        "# Map the predicted class to the corresponding emotion label\n",
        "predicted_emotion = emotion_labels[predicted_class]\n",
        "\n",
        "print(f\"Predicted emotion: {predicted_emotion}\")\n"
      ],
      "metadata": {
        "colab": {
          "base_uri": "https://localhost:8080/"
        },
        "id": "XWU2WCPNzs8Y",
        "outputId": "60572403-bfee-4523-ecb2-37f2d5e5eaf5"
      },
      "execution_count": 93,
      "outputs": [
        {
          "output_type": "stream",
          "name": "stdout",
          "text": [
            "Predicted emotion: joy\n"
          ]
        }
      ]
    },
    {
      "cell_type": "code",
      "source": [
        "\n",
        "# Tokenize the input sentence\n",
        "inputs = tokenizer(['She passed away last night'], padding=True, truncation=True, return_tensors='tf')\n",
        "\n",
        "# Call the classifier to get the predictions\n",
        "output = classifier(inputs)\n",
        "\n",
        "# Get the predicted class (using tf.argmax to get the index of the max probability)\n",
        "predicted_class = tf.argmax(output, axis=1).numpy()[0]\n",
        "\n",
        "# Map the predicted class to the corresponding emotion label\n",
        "predicted_emotion = emotion_labels[predicted_class]\n",
        "\n",
        "print(f\"Predicted emotion: {predicted_emotion}\")"
      ],
      "metadata": {
        "colab": {
          "base_uri": "https://localhost:8080/"
        },
        "id": "uuMZlYr50AZQ",
        "outputId": "cf933e25-1873-4351-c639-5f562edcf76d"
      },
      "execution_count": 94,
      "outputs": [
        {
          "output_type": "stream",
          "name": "stdout",
          "text": [
            "Predicted emotion: sadness\n"
          ]
        }
      ]
    },
    {
      "cell_type": "code",
      "source": [
        "\n",
        "\n",
        "# Tokenize the input sentence\n",
        "inputs = tokenizer(['How dare you say that'], padding=True, truncation=True, return_tensors='tf')\n",
        "\n",
        "# Call the classifier to get the predictions\n",
        "output = classifier(inputs)\n",
        "\n",
        "# Get the predicted class (using tf.argmax to get the index of the max probability)\n",
        "predicted_class = tf.argmax(output, axis=1).numpy()[0]\n",
        "\n",
        "# Map the predicted class to the corresponding emotion label\n",
        "predicted_emotion = emotion_labels[predicted_class]\n",
        "\n",
        "print(f\"Predicted emotion: {predicted_emotion}\")"
      ],
      "metadata": {
        "colab": {
          "base_uri": "https://localhost:8080/"
        },
        "id": "dsLKS0LU0Fvg",
        "outputId": "24842c66-7bd5-4b57-d0c5-abbd77b9d986"
      },
      "execution_count": 97,
      "outputs": [
        {
          "output_type": "stream",
          "name": "stdout",
          "text": [
            "Predicted emotion: anger\n"
          ]
        }
      ]
    },
    {
      "cell_type": "code",
      "source": [
        "\n",
        "# Tokenize the input sentence\n",
        "inputs = tokenizer(['Yesterday I was walking past a school and one of the kids gave me a flower. She was so sweet !'], padding=True, truncation=True, return_tensors='tf')\n",
        "\n",
        "# Call the classifier to get the predictions\n",
        "output = classifier(inputs)\n",
        "\n",
        "# Get the predicted class (using tf.argmax to get the index of the max probability)\n",
        "predicted_class = tf.argmax(output, axis=1).numpy()[0]\n",
        "\n",
        "# Map the predicted class to the corresponding emotion label\n",
        "predicted_emotion = emotion_labels[predicted_class]\n",
        "\n",
        "print(f\"Predicted emotion: {predicted_emotion}\")"
      ],
      "metadata": {
        "colab": {
          "base_uri": "https://localhost:8080/"
        },
        "id": "735YFTU_0Kqw",
        "outputId": "2de955df-058d-4d5e-9d83-ffd24613e91e"
      },
      "execution_count": 98,
      "outputs": [
        {
          "output_type": "stream",
          "name": "stdout",
          "text": [
            "Predicted emotion: love\n"
          ]
        }
      ]
    },
    {
      "cell_type": "code",
      "source": [
        "\n",
        "# Tokenize the input sentence\n",
        "inputs = tokenizer(['i want to hold this feeling of shocked awe and wonder forever'], padding=True, truncation=True, return_tensors='tf')\n",
        "\n",
        "# Call the classifier to get the predictions\n",
        "output = classifier(inputs)\n",
        "\n",
        "# Get the predicted class (using tf.argmax to get the index of the max probability)\n",
        "predicted_class = tf.argmax(output, axis=1).numpy()[0]\n",
        "\n",
        "# Map the predicted class to the corresponding emotion label\n",
        "predicted_emotion = emotion_labels[predicted_class]\n",
        "\n",
        "print(f\"Predicted emotion: {predicted_emotion}\")"
      ],
      "metadata": {
        "colab": {
          "base_uri": "https://localhost:8080/"
        },
        "id": "nc74cMYu4AUP",
        "outputId": "fdc1dd48-d765-4be8-8976-b97cc1921bca"
      },
      "execution_count": 123,
      "outputs": [
        {
          "output_type": "stream",
          "name": "stdout",
          "text": [
            "Predicted emotion: surprise\n"
          ]
        }
      ]
    },
    {
      "cell_type": "markdown",
      "source": [
        "# More Inference"
      ],
      "metadata": {
        "id": "FFNiEcM-8D49"
      }
    },
    {
      "cell_type": "code",
      "source": [
        "import torch\n",
        "import requests\n",
        "from bs4 import BeautifulSoup\n",
        "import re"
      ],
      "metadata": {
        "id": "j9UIPZFU16FC"
      },
      "execution_count": 101,
      "outputs": []
    },
    {
      "cell_type": "code",
      "source": [
        "# Trying the model on yelp reviews\n",
        "r = requests.get('https://www.yelp.com/biz/cafe-giardino-london?osq=Themed+Cafes')\n",
        "soup = BeautifulSoup(r.text, 'html.parser')\n",
        "regex = re.compile('.*comment.*')\n",
        "results = soup.find_all('p', {'class':regex})  # All the reviews are under a p-tag\n",
        "reviews = [result.text for result in results]"
      ],
      "metadata": {
        "id": "GnzurguV0h7g"
      },
      "execution_count": 108,
      "outputs": []
    },
    {
      "cell_type": "markdown",
      "source": [
        "![image.png](data:image/png;base64,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)"
      ],
      "metadata": {
        "id": "IOAc9ePv1zCk"
      }
    },
    {
      "cell_type": "code",
      "source": [
        "text = reviews[1]\n",
        "text"
      ],
      "metadata": {
        "colab": {
          "base_uri": "https://localhost:8080/",
          "height": 87
        },
        "id": "wzYOyQ572BHY",
        "outputId": "4f3541df-aeeb-46d6-a73a-39495100218e"
      },
      "execution_count": 111,
      "outputs": [
        {
          "output_type": "execute_result",
          "data": {
            "text/plain": [
              "\"Cafe Giardino is an ideally situated cafe with an Italian flavour. As with most Italian themed cafe's the food is the main focus and it's all very tasty and fresh. Soups, lasagne, salad and a hude range of fresh sandwich / paninin ingredients are on display here. Service is not overly fast, but this is due to the fact that Giardinos is situated in the middle of a large shopping centre and the other choices are cheap fast food like McDonalds. Busy doesn't begin to describe how Giardinos can be, particularly on a Saturday, but if you manage to join the queue at the right time and find one of the many seats around the shopping centre you will be pleased with the quality of food on offer. You will be glad to take a welcome beak from uninspiring fast food choices out there\""
            ],
            "application/vnd.google.colaboratory.intrinsic+json": {
              "type": "string"
            }
          },
          "metadata": {},
          "execution_count": 111
        }
      ]
    },
    {
      "cell_type": "code",
      "source": [
        "inputs = tokenizer([text], padding=True, truncation=True, return_tensors='tf')\n",
        "\n",
        "output = classifier(inputs)\n",
        "\n",
        "predicted_class = tf.argmax(output, axis=1).numpy()[0]\n",
        "\n",
        "predicted_emotion = emotion_labels[predicted_class]\n",
        "\n",
        "print(f\"Predicted emotion: {predicted_emotion}\")"
      ],
      "metadata": {
        "colab": {
          "base_uri": "https://localhost:8080/"
        },
        "id": "Cq-QuuXR2K7Q",
        "outputId": "3712f5de-807b-48c5-88c6-ef8e50892408"
      },
      "execution_count": 112,
      "outputs": [
        {
          "output_type": "stream",
          "name": "stdout",
          "text": [
            "Predicted emotion: joy\n"
          ]
        }
      ]
    }
  ]
}